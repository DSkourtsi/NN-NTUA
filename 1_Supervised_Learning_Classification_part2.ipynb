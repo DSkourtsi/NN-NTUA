{
  "nbformat": 4,
  "nbformat_minor": 0,
  "metadata": {
    "kernelspec": {
      "language": "python",
      "display_name": "Python 3",
      "name": "python3"
    },
    "language_info": {
      "name": "python",
      "version": "3.7.12",
      "mimetype": "text/x-python",
      "codemirror_mode": {
        "name": "ipython",
        "version": 3
      },
      "pygments_lexer": "ipython3",
      "nbconvert_exporter": "python",
      "file_extension": ".py"
    },
    "colab": {
      "name": "Kaggle_dataset.ipynb",
      "provenance": []
    }
  },
  "cells": [
    {
      "cell_type": "markdown",
      "metadata": {
        "_uuid": "8f2839f25d086af736a60e9eeb907d3b93b6e0e5",
        "_cell_guid": "b1076dfc-b9ad-4769-8c92-a6c4dae69d19",
        "execution": {
          "iopub.status.busy": "2021-11-26T18:13:05.805685Z",
          "iopub.execute_input": "2021-11-26T18:13:05.805979Z",
          "iopub.status.idle": "2021-11-26T18:13:05.815542Z",
          "shell.execute_reply.started": "2021-11-26T18:13:05.805944Z",
          "shell.execute_reply": "2021-11-26T18:13:05.814792Z"
        },
        "id": "ILqz5fe3rYGD"
      },
      "source": [
        "# Εργασία 1. Επιβλεπόμενη Μάθηση: Ταξινόμηση \n",
        "## Ομάδα: 86\n",
        "Σκουρτσή Δήμητρα Άννα: el18044\n",
        "\n",
        "Στεργιόπουλος Αναστάσιος: el18605\n",
        "\n",
        "Φιλίππα Μυρσίνη: el18151\n",
        "## Μέρος 2. Kaggle Dataset"
      ]
    },
    {
      "cell_type": "markdown",
      "metadata": {
        "id": "Jh4PSwLurYGK"
      },
      "source": [
        "Το dataset με το οποίο εργαζόμαστε είναι το Trip Pricing with Taxi Mobility Analytics. Ο στόχος μας είναι να δημιουργήσουμε ένα μοντέλο το οποίο θα προβλέπει το pricing type της διαδρομής που θέλει να κάνει ο πελάτης, ώστε να γίνει η διαδικασία αντιστοίχησης του πελάτη με το κατάλληλο ταξί γρήγορη και αποτελεσματική."
      ]
    },
    {
      "cell_type": "code",
      "metadata": {
        "execution": {
          "iopub.status.busy": "2021-12-03T11:50:44.654911Z",
          "iopub.execute_input": "2021-12-03T11:50:44.655541Z",
          "iopub.status.idle": "2021-12-03T11:50:44.663245Z",
          "shell.execute_reply.started": "2021-12-03T11:50:44.655488Z",
          "shell.execute_reply": "2021-12-03T11:50:44.662297Z"
        },
        "trusted": true,
        "id": "57CwsJyprYGL"
      },
      "source": [
        "import os\n",
        "import time\n",
        "import string\n",
        "import pandas as pd\n",
        "import numpy as np\n",
        "import matplotlib.pyplot as plt\n",
        "from sklearn.impute import SimpleImputer\n",
        "from sklearn.svm import LinearSVC, SVC\n",
        "from sklearn.model_selection import GridSearchCV, train_test_split\n",
        "from sklearn.pipeline import make_pipeline\n",
        "from sklearn import preprocessing\n",
        "from sklearn.preprocessing import StandardScaler, MinMaxScaler\n",
        "from sklearn.metrics import plot_confusion_matrix, classification_report, precision_recall_fscore_support\n",
        "from sklearn.metrics import f1_score, confusion_matrix, accuracy_score\n",
        "from sklearn.feature_selection import VarianceThreshold\n",
        "from imblearn.over_sampling import SMOTE, RandomOverSampler\n",
        "from imblearn.pipeline import Pipeline\n",
        "from sklearn.decomposition import PCA"
      ],
      "execution_count": null,
      "outputs": []
    },
    {
      "cell_type": "code",
      "metadata": {
        "execution": {
          "iopub.status.busy": "2021-12-03T11:50:44.664795Z",
          "iopub.execute_input": "2021-12-03T11:50:44.665039Z",
          "iopub.status.idle": "2021-12-03T11:50:44.681020Z",
          "shell.execute_reply.started": "2021-12-03T11:50:44.664976Z",
          "shell.execute_reply": "2021-12-03T11:50:44.680382Z"
        },
        "trusted": true,
        "id": "fOlAOiq7rYGM",
        "outputId": "90be6b47-579e-4d0e-eb63-2b4b930b9a57"
      },
      "source": [
        "for dirname, _, filenames in os.walk('/kaggle/input'):\n",
        "    for filename in filenames:\n",
        "        print(os.path.join(dirname, filename))"
      ],
      "execution_count": null,
      "outputs": [
        {
          "name": "stdout",
          "text": "/kaggle/input/taxi-pricing-with-mobility-analytics/sigma_cabs.csv\n/kaggle/input/taxi-pricing-with-mobility-analytics/test.csv\n",
          "output_type": "stream"
        }
      ]
    },
    {
      "cell_type": "code",
      "metadata": {
        "execution": {
          "iopub.status.busy": "2021-12-03T11:50:44.681911Z",
          "iopub.execute_input": "2021-12-03T11:50:44.682446Z",
          "iopub.status.idle": "2021-12-03T11:50:45.042314Z",
          "shell.execute_reply.started": "2021-12-03T11:50:44.682417Z",
          "shell.execute_reply": "2021-12-03T11:50:45.041392Z"
        },
        "trusted": true,
        "id": "mse2EmXZrYGN",
        "outputId": "685e9dc1-822e-4430-ffc3-0e62c991565d"
      },
      "source": [
        "data = pd.read_csv(\"/kaggle/input/taxi-pricing-with-mobility-analytics/sigma_cabs.csv\")\n",
        "print(data)"
      ],
      "execution_count": null,
      "outputs": [
        {
          "name": "stdout",
          "text": "            Trip_ID  Trip_Distance Type_of_Cab  Customer_Since_Months  \\\n0       T0005689460           6.77           B                    1.0   \n1       T0005689461          29.47           B                   10.0   \n2       T0005689464          41.58         NaN                   10.0   \n3       T0005689465          61.56           C                   10.0   \n4       T0005689467          54.95           C                   10.0   \n...             ...            ...         ...                    ...   \n131657  T0005908509          11.72           D                    1.0   \n131658  T0005908510          74.81           C                    7.0   \n131659  T0005908512          40.17           C                   10.0   \n131660  T0005908513          46.88           B                    4.0   \n131661  T0005908514          31.96           A                    7.0   \n\n        Life_Style_Index Confidence_Life_Style_Index Destination_Type  \\\n0                2.42769                           A                A   \n1                2.78245                           B                A   \n2                    NaN                         NaN                E   \n3                    NaN                         NaN                A   \n4                3.03453                           B                A   \n...                  ...                         ...              ...   \n131657           2.74229                           A                A   \n131658           2.81059                           C                A   \n131659           2.99565                           B                A   \n131660           3.04744                           A                B   \n131661           2.93773                           A                E   \n\n        Customer_Rating  Cancellation_Last_1Month   Var1  Var2  Var3  Gender  \\\n0               3.90500                         0   40.0    46    60  Female   \n1               3.45000                         0   38.0    56    78    Male   \n2               3.50125                         2    NaN    56    77    Male   \n3               3.45375                         0    NaN    52    74    Male   \n4               3.40250                         4   51.0    49   102    Male   \n...                 ...                       ...    ...   ...   ...     ...   \n131657          3.28500                         0   61.0    47    76    Male   \n131658          0.44500                         0    NaN    63    88    Male   \n131659          3.33625                         0    NaN    48    75  Female   \n131660          4.15750                         1   47.0    54    79    Male   \n131661          2.63875                         1  102.0    57    85    Male   \n\n        Surge_Pricing_Type  \n0                        2  \n1                        2  \n2                        2  \n3                        3  \n4                        2  \n...                    ...  \n131657                   3  \n131658                   2  \n131659                   2  \n131660                   2  \n131661                   1  \n\n[131662 rows x 14 columns]\n",
          "output_type": "stream"
        }
      ]
    },
    {
      "cell_type": "code",
      "metadata": {
        "execution": {
          "iopub.status.busy": "2021-12-03T11:50:45.044526Z",
          "iopub.execute_input": "2021-12-03T11:50:45.044841Z",
          "iopub.status.idle": "2021-12-03T11:50:45.927709Z",
          "shell.execute_reply.started": "2021-12-03T11:50:45.044799Z",
          "shell.execute_reply": "2021-12-03T11:50:45.926804Z"
        },
        "trusted": true,
        "id": "df-lPPeorYGN",
        "outputId": "9312b4b2-b8e8-4da0-d181-f785ecb386f9"
      },
      "source": [
        "mapping = {'Female': 0, 'Male': 1}\n",
        "data = data.replace({\"Gender\": mapping})\n",
        "\n",
        "dct = dict(zip(list(string.ascii_uppercase) , np.arange(1, 27)))\n",
        "print(\"The mapping for the letters is:\",dct,\"\\n\")\n",
        "\n",
        "data = data.replace({\"Type_of_Cab\": dct, \"Confidence_Life_Style_Index\": dct, \"Destination_Type\": dct})"
      ],
      "execution_count": null,
      "outputs": [
        {
          "name": "stdout",
          "text": "The mapping for the letters is: {'A': 1, 'B': 2, 'C': 3, 'D': 4, 'E': 5, 'F': 6, 'G': 7, 'H': 8, 'I': 9, 'J': 10, 'K': 11, 'L': 12, 'M': 13, 'N': 14, 'O': 15, 'P': 16, 'Q': 17, 'R': 18, 'S': 19, 'T': 20, 'U': 21, 'V': 22, 'W': 23, 'X': 24, 'Y': 25, 'Z': 26} \n\n",
          "output_type": "stream"
        }
      ]
    },
    {
      "cell_type": "code",
      "metadata": {
        "execution": {
          "iopub.status.busy": "2021-12-03T11:50:45.929340Z",
          "iopub.execute_input": "2021-12-03T11:50:45.929650Z",
          "iopub.status.idle": "2021-12-03T11:50:49.322143Z",
          "shell.execute_reply.started": "2021-12-03T11:50:45.929610Z",
          "shell.execute_reply": "2021-12-03T11:50:49.321177Z"
        },
        "trusted": true,
        "id": "3xzrixAArYGN",
        "outputId": "b7e076f8-0b6a-4bb3-dd22-a519e8a0e750"
      },
      "source": [
        "np_data = data.to_numpy()\n",
        "labels = np_data[:,-1].astype(int)\n",
        "features = np_data[:,1:-1]\n",
        "\n",
        "print('The labels of the dataset are: ',set(labels),'\\n')\n",
        "\n",
        "(classs, counts)=np.unique(labels, return_counts=True)\n",
        "frequencies = np.asarray((classs, counts)).T\n",
        "\n",
        "per1=(frequencies[0][1]/len(labels))*100\n",
        "print(\"Percentage of type 1 in the dataset: \",per1,\"%\\n\")\n",
        "per2=(frequencies[1][1]/len(labels))*100\n",
        "print(\"Percentage of type 2 in the dataset: \",per2,\"%\\n\")\n",
        "per3=(frequencies[2][1]/len(labels))*100\n",
        "print(\"Percentage of type 3 in the dataset: \",per3,\"%\\n\")\n",
        "\n",
        "\n",
        "def check_nulls(i_num, j_num, thr, show_per):\n",
        "    l = []\n",
        "    totalcounter=0  \n",
        "    for i in range(0,i_num):\n",
        "        counter=0\n",
        "        for j in range(0,j_num):\n",
        "            if i_num > j_num:\n",
        "                if str(features[i][j]) == 'nan':\n",
        "                    counter+=1\n",
        "            else:\n",
        "                if str(features[j][i]) == 'nan':\n",
        "                    counter+=1\n",
        "            if counter>0:\n",
        "                 totalcounter+=1\n",
        "        if counter >= thr:\n",
        "            l.append(i)\n",
        "    if show_per:\n",
        "        print(\"Total empty values are\", totalcounter)\n",
        "        total = i_num*j_num\n",
        "        per = (totalcounter/total)*100\n",
        "        print(\"The percentage of empty values to total values is\", per)\n",
        "    return l\n",
        "\n",
        "print(len(check_nulls(131662, 12, 8, 1)), \"rows have more than 60% empty features\")\n",
        "print(len(check_nulls(12, 131662, 78996, 0)), \"features have more than 60% empty rows\")"
      ],
      "execution_count": null,
      "outputs": [
        {
          "name": "stdout",
          "text": "The labels of the dataset are:  {1, 2, 3} \n\nPercentage of type 1 in the dataset:  20.66959335267579 %\n\nPercentage of type 2 in the dataset:  43.086084063738966 %\n\nPercentage of type 3 in the dataset:  36.244322583585245 %\n\nTotal empty values are 613657\nThe percentage of empty values to total values is 38.840427255649566\n0 rows have more than 60% empty features\n0 features have more than 60% empty rows\n",
          "output_type": "stream"
        }
      ]
    },
    {
      "cell_type": "markdown",
      "metadata": {
        "id": "Dvpfi5g_rYGO"
      },
      "source": [
        "#### Undersampling\n",
        "Το dataset μας δεν είναι ισορροπημένο (class1: 20%, class2: 43%, class3: 36%). Για να το ισορροπήσουμε θα κάνουμε undersampling, ώστε τελικά οι 3 κλάσεις να είναι ισοκατανεμημένες. Διαλέγουμε undersampling λόγω του μεγέθους του dataset."
      ]
    },
    {
      "cell_type": "code",
      "metadata": {
        "execution": {
          "iopub.status.busy": "2021-12-03T11:50:49.323483Z",
          "iopub.execute_input": "2021-12-03T11:50:49.323795Z",
          "iopub.status.idle": "2021-12-03T11:50:49.468689Z",
          "shell.execute_reply.started": "2021-12-03T11:50:49.323759Z",
          "shell.execute_reply": "2021-12-03T11:50:49.467892Z"
        },
        "trusted": true,
        "id": "FeXsU4u8rYGO",
        "outputId": "93bb1889-b2e7-40ad-bfa4-b35bd90211e1"
      },
      "source": [
        "from imblearn.under_sampling import RandomUnderSampler\n",
        "from sklearn.preprocessing import MultiLabelBinarizer\n",
        "# αρχικοποίηση του RandomOverSampler\n",
        "rus = RandomUnderSampler()\n",
        "features_resampled, labels_resampled = rus.fit_resample(features,labels)\n",
        "\n",
        "# εκτυπώνουμε τις νέες διαστάσεις του train set\n",
        "print(features_resampled.shape)\n",
        "print(labels_resampled.shape)\n",
        "print(labels_resampled)\n",
        "# επιβεβαιώνουμε ότι το training set έχει εξισορροπηθεί με undersampling\n",
        "unique_after, counts_after = np.unique(labels_resampled, return_counts=True)\n",
        "print(\"After undersampling:\",dict(zip(unique_after, counts_after)))\n",
        "\n",
        "data.isnull().sum()"
      ],
      "execution_count": null,
      "outputs": [
        {
          "name": "stdout",
          "text": "(81642, 12)\n(81642,)\n[1 1 1 ... 3 3 3]\nAfter undersampling: {1: 27214, 2: 27214, 3: 27214}\n",
          "output_type": "stream"
        },
        {
          "execution_count": 13,
          "output_type": "execute_result",
          "data": {
            "text/plain": "Trip_ID                            0\nTrip_Distance                      0\nType_of_Cab                    20210\nCustomer_Since_Months           5920\nLife_Style_Index               20193\nConfidence_Life_Style_Index    20193\nDestination_Type                   0\nCustomer_Rating                    0\nCancellation_Last_1Month           0\nVar1                           71030\nVar2                               0\nVar3                               0\nGender                             0\nSurge_Pricing_Type                 0\ndtype: int64"
          },
          "metadata": {}
        }
      ]
    },
    {
      "cell_type": "markdown",
      "metadata": {
        "id": "JoU-FiAGrYGO"
      },
      "source": [
        "#### Split dataset"
      ]
    },
    {
      "cell_type": "code",
      "metadata": {
        "execution": {
          "iopub.status.busy": "2021-12-03T11:50:49.469809Z",
          "iopub.execute_input": "2021-12-03T11:50:49.470115Z",
          "iopub.status.idle": "2021-12-03T11:50:49.509750Z",
          "shell.execute_reply.started": "2021-12-03T11:50:49.470074Z",
          "shell.execute_reply": "2021-12-03T11:50:49.508831Z"
        },
        "trusted": true,
        "id": "9MdwykcnrYGO"
      },
      "source": [
        "pd_labels = data.iloc[:,-1]\n",
        "pd_features = data.iloc[:,1:-1]\n",
        "# Split our data\n",
        "train, test, train_labels, test_labels = train_test_split(pd_features, pd_labels, test_size=0.30)"
      ],
      "execution_count": null,
      "outputs": []
    },
    {
      "cell_type": "markdown",
      "metadata": {
        "id": "8Ar7JSZYrYGO"
      },
      "source": [
        "#### Διαχειρισμός κατηγορικών NaN "
      ]
    },
    {
      "cell_type": "markdown",
      "metadata": {
        "id": "DEzF-SbErYGP"
      },
      "source": [
        "Από τα κατηγορικά χαρακτηριστικά απουσιάζουσες τιμές έχουν μόνο τα χαρακτηριστικά \"Type_of_Cab\" και \"Confidence_Life_Style_Index\" (φαίνεται παραπάνω). Για τα χαρακτηριστικά αυτά, θέλουμε να αντικαταστήσουμε τις απουσιάζουσες τιμές τους με τη most frequent τιμή, αφού το να πάρουμε κάποια mean τιμή οπως θα κάνουμε για τα άλλα attributes δεν έχει εδώ κάποιο νόημα (δεν υπάρχει κάποιος ενδιάμεσος τύπος Taxi). Για αυτό χρησιμοποιούμε την value_counts με την επιλογή sort, η οποία μας επιστρέφει ένα Pandas Series το οποίο μετατρέπουμε σε tuple. Στο πρώτο tuple, έχουμε στο πρώτο στοιχείο το most frequent, και στο δεύτερο τον αριθμό των φορών που εμφανίζεται στο dataset. Τέλος, με χρήση της fillna, γεμίζουμε τα NaN στοιχεία με την most frequent τιμή."
      ]
    },
    {
      "cell_type": "code",
      "metadata": {
        "execution": {
          "iopub.status.busy": "2021-12-03T11:50:49.510705Z",
          "iopub.execute_input": "2021-12-03T11:50:49.510886Z",
          "iopub.status.idle": "2021-12-03T11:50:49.554608Z",
          "shell.execute_reply.started": "2021-12-03T11:50:49.510862Z",
          "shell.execute_reply": "2021-12-03T11:50:49.553798Z"
        },
        "trusted": true,
        "id": "78UE45pTrYGP"
      },
      "source": [
        "def fill_categorical_nan(s):\n",
        "    global train, test\n",
        "    count = train.loc[:, s].value_counts(sort=True)\n",
        "    tuples = [tuple((x, y)) for x, y in count.items()]\n",
        "    temp_train = train[s].fillna(tuples[0][0])\n",
        "    temp_test = test[s].fillna(tuples[0][0])\n",
        "    train = train.assign(s = temp_train)\n",
        "    test = test.assign(s = temp_test)\n",
        "    \n",
        "fill_categorical_nan('Type_of_Cab')\n",
        "fill_categorical_nan('Confidence_Life_Style_Index')"
      ],
      "execution_count": null,
      "outputs": []
    },
    {
      "cell_type": "markdown",
      "metadata": {
        "id": "PoVniaMJrYGP"
      },
      "source": [
        "Στη συνέχεια, για τις απουσιάζουσες τιμές των υπόλοιπων χαρακτηριστικών θα χρησιμοποιήσουμε imputer  με στρατηγική mean, καθώς πρόκειται για continuous τιμές."
      ]
    },
    {
      "cell_type": "code",
      "metadata": {
        "execution": {
          "iopub.status.busy": "2021-12-03T11:50:49.557297Z",
          "iopub.execute_input": "2021-12-03T11:50:49.557510Z",
          "iopub.status.idle": "2021-12-03T11:50:49.602609Z",
          "shell.execute_reply.started": "2021-12-03T11:50:49.557480Z",
          "shell.execute_reply": "2021-12-03T11:50:49.601828Z"
        },
        "trusted": true,
        "id": "VmMwfap3rYGP"
      },
      "source": [
        "train = train.to_numpy()\n",
        "test = test.to_numpy()\n",
        "\n",
        "imp=SimpleImputer(missing_values=np.NaN,strategy='mean')\n",
        "\n",
        "train=imp.fit_transform(train)\n",
        "test =imp.transform(test)"
      ],
      "execution_count": null,
      "outputs": []
    },
    {
      "cell_type": "markdown",
      "metadata": {
        "id": "G0dhIt9vrYGP"
      },
      "source": [
        "## Επίδοση out-of-the-box\n",
        "Γνωρίζοντας πως ο στόχος της μελέτης αυτού του dataset είνα το dynamic princing, καταλαβαίνουμε πως οι λάθος εκτιμήσεις δεν είναι όσο σημαντικές όσο για κάποιο ιατρικό dataset (που κάποια λάθος ταξινόμηση μπορεί να φανεί θανάσιμη). Συνεπώς για την εκτίμηση της απόδοσης των ταξινομητών, αποφασίσαμε να χρησιμοποιήσουμε τη μετρική accuracy, καθώς είναι ο απόλυτος δείκτης.\n",
        "### Dummy Classifier"
      ]
    },
    {
      "cell_type": "code",
      "metadata": {
        "execution": {
          "iopub.status.busy": "2021-12-03T11:50:49.604218Z",
          "iopub.execute_input": "2021-12-03T11:50:49.604519Z",
          "iopub.status.idle": "2021-12-03T11:50:49.823760Z",
          "shell.execute_reply.started": "2021-12-03T11:50:49.604477Z",
          "shell.execute_reply": "2021-12-03T11:50:49.821633Z"
        },
        "trusted": true,
        "id": "EyamgAuFrYGP",
        "outputId": "15c651b1-81f2-40df-d0b1-0b93f5d58a88"
      },
      "source": [
        "label_names = [\"1\", \"2\", \"3\"]\n",
        "\n",
        "from sklearn.dummy import DummyClassifier\n",
        "# dummy uniform\n",
        "dc_uniform = DummyClassifier(strategy=\"uniform\")\n",
        "model = dc_uniform.fit(train, train_labels)\n",
        "preds = dc_uniform.predict(test)\n",
        "accuracy = {}\n",
        "accuracy['Dummy Uniform (Random)']= accuracy_score(test_labels, preds)\n",
        "f1_macro = {}\n",
        "f1_macro['Dummy Uniform (Random)'] = f1_score(test_labels, preds, average='macro')\n",
        "accuracy_bar = []\n",
        "accuracy_bar.append(accuracy_score(test_labels, preds))\n",
        "f1_macro_bar = []\n",
        "f1_macro_bar.append(f1_score(test_labels, preds, average='macro'))\n",
        "\n",
        "# dummy constant 1\n",
        "dc_constant_1 = DummyClassifier(strategy=\"constant\", constant=1)\n",
        "model = dc_constant_1.fit(train, train_labels)\n",
        "pred_const1 = dc_constant_1.predict(test)\n",
        "accuracy['Dummy Constant 1']= accuracy_score(test_labels, pred_const1)\n",
        "f1_macro['Dummy Constant 1'] = f1_score(test_labels, pred_const1, average=\"macro\")\n",
        "f1_macro_bar.append(f1_score(test_labels, pred_const1, average=\"macro\"))\n",
        "accuracy_bar.append(accuracy_score(test_labels, pred_const1))\n",
        "\n",
        "# dummy constant 2\n",
        "dc_constant_2 = DummyClassifier(strategy=\"constant\", constant=2)\n",
        "model = dc_constant_2.fit(train, train_labels)\n",
        "pred_const2 = dc_constant_2.predict(test)\n",
        "accuracy['Dummy Constant 2']= accuracy_score(test_labels, pred_const2)\n",
        "f1_macro['Dummy Constant 2'] = f1_score(test_labels, pred_const2, average=\"macro\")\n",
        "f1_macro_bar.append(f1_score(test_labels, pred_const2, average=\"macro\"))\n",
        "accuracy_bar.append(accuracy_score(test_labels, pred_const2))\n",
        "\n",
        "# dummy constant 3\n",
        "dc_constant_3 = DummyClassifier(strategy=\"constant\", constant=3)\n",
        "model = dc_constant_3.fit(train, train_labels)\n",
        "pred_const3 = dc_constant_3.predict(test)\n",
        "accuracy['Dummy Constant 3']= accuracy_score(test_labels, pred_const3)\n",
        "f1_macro['Dummy Constant 3'] = f1_score(test_labels, pred_const3, average=\"macro\")\n",
        "f1_macro_bar.append(f1_score(test_labels, pred_const3, average=\"macro\"))\n",
        "accuracy_bar.append(accuracy_score(test_labels, pred_const3))\n",
        "\n",
        "# dummy most frequent\n",
        "dc_most_frequent = DummyClassifier(strategy=\"most_frequent\")\n",
        "model = dc_most_frequent.fit(train, train_labels)\n",
        "pred_most_freq = dc_most_frequent.predict(test)\n",
        "accuracy['Dummy Most Frequent']= accuracy_score(test_labels, pred_most_freq)\n",
        "f1_macro['Dummy Most Frequent'] = f1_score(test_labels, pred_most_freq, average=\"macro\")\n",
        "f1_macro_bar.append(f1_score(test_labels, pred_most_freq, average=\"macro\"))\n",
        "accuracy_bar.append(accuracy_score(test_labels, pred_most_freq))\n",
        "\n",
        "# dummy stratified\n",
        "dc_stratified = DummyClassifier(strategy=\"stratified\")\n",
        "model = dc_stratified.fit(train, train_labels)\n",
        "pred_stratified = dc_stratified.predict(test)\n",
        "accuracy['Dummy Stratified']= accuracy_score(test_labels, pred_stratified)\n",
        "f1_macro['Dummy Stratified'] = f1_score(test_labels, pred_stratified, average=\"macro\")\n",
        "f1_macro_bar.append(f1_score(test_labels, pred_stratified, average=\"macro\"))\n",
        "accuracy_bar.append(accuracy_score(test_labels, pred_stratified))\n",
        "\n",
        "\n",
        "# print result\n",
        "print(\"Classification Accuracy on the Dataset (30% test set)\\n\")\n",
        "sorted_accuracy = [(k, accuracy[k]) for k in sorted(accuracy, key=accuracy.get, reverse=True)]\n",
        "for k, v in sorted_accuracy:\n",
        "  print(k,\":\",v)\n",
        "print(\"\\n\")\n",
        "\n",
        "print(\"Classification F1 Macro on the Dataset (30% test set)\\n\")\n",
        "sorted_f1_macro = [(k, f1_macro[k]) for k in sorted(f1_macro, key=f1_macro.get, reverse=True)]\n",
        "for k, v in sorted_f1_macro:\n",
        "  print(k,\":\",v)\n",
        "print(\"\\n\")"
      ],
      "execution_count": null,
      "outputs": [
        {
          "name": "stdout",
          "text": "Classification Accuracy on the Dataset (30% test set)\n\nDummy Constant 2 : 0.42990961796501176\nDummy Most Frequent : 0.42990961796501176\nDummy Constant 3 : 0.36281931188131344\nDummy Stratified : 0.35765462416770044\nDummy Uniform (Random) : 0.3359831894478341\nDummy Constant 1 : 0.20727107015367477\n\n\nClassification F1 Macro on the Dataset (30% test set)\n\nDummy Stratified : 0.3320945240738784\nDummy Uniform (Random) : 0.3285979748693815\nDummy Constant 2 : 0.2004367327667611\nDummy Most Frequent : 0.2004367327667611\nDummy Constant 3 : 0.17748467397362067\nDummy Constant 1 : 0.11445707335486305\n\n\n",
          "output_type": "stream"
        }
      ]
    },
    {
      "cell_type": "markdown",
      "metadata": {
        "id": "QApXRiJArYGQ"
      },
      "source": [
        "### Multi Layer Perceptron (MLP)"
      ]
    },
    {
      "cell_type": "code",
      "metadata": {
        "execution": {
          "iopub.status.busy": "2021-12-03T11:50:49.825285Z",
          "iopub.execute_input": "2021-12-03T11:50:49.825511Z",
          "iopub.status.idle": "2021-12-03T11:52:49.648110Z",
          "shell.execute_reply.started": "2021-12-03T11:50:49.825483Z",
          "shell.execute_reply": "2021-12-03T11:52:49.647260Z"
        },
        "trusted": true,
        "id": "3KkXh071rYGQ",
        "outputId": "1a58a0b8-af2c-4bdd-852a-c7826d723961"
      },
      "source": [
        "from sklearn.neural_network import MLPClassifier\n",
        "from sklearn.metrics import classification_report\n",
        "\n",
        "mlp = MLPClassifier()\n",
        "mlp.fit(train, train_labels)\n",
        "pred_mlp = mlp.predict(test)\n",
        "\n",
        "plot_confusion_matrix(mlp, test, test_labels)  \n",
        "plt.title('Confusion matrix for the MLP')\n",
        "plt.xlabel('Predicted')\n",
        "plt.ylabel('Actual')\n",
        "plt.show() \n",
        "\n",
        "print(classification_report(test_labels, pred_mlp, target_names=label_names))\n",
        "accuracy['MLP']= accuracy_score(test_labels, pred_mlp)\n",
        "f1_macro['MLP'] = f1_score(test_labels, pred_mlp, average=\"macro\")\n",
        "barplotbefore = []\n",
        "f1_macro_bar.append(f1_score(test_labels, pred_mlp, average=\"macro\"))\n",
        "accuracy_bar.append(accuracy_score(test_labels, pred_mlp))\n",
        "barplotbefore.append(accuracy_score(test_labels, pred_mlp))"
      ],
      "execution_count": null,
      "outputs": [
        {
          "output_type": "display_data",
          "data": {
            "text/plain": "<Figure size 432x288 with 2 Axes>",
            "image/png": "[encoded data removed]"
          },
          "metadata": {
            "needs_background": "light"
          }
        },
        {
          "name": "stdout",
          "text": "              precision    recall  f1-score   support\n\n           1       0.72      0.55      0.62      8187\n           2       0.63      0.81      0.71     16981\n           3       0.74      0.59      0.65     14331\n\n    accuracy                           0.68     39499\n   macro avg       0.70      0.65      0.66     39499\nweighted avg       0.69      0.68      0.67     39499\n\n",
          "output_type": "stream"
        }
      ]
    },
    {
      "cell_type": "markdown",
      "metadata": {
        "id": "QehOn_JVrYGR"
      },
      "source": [
        "### Support Vector Machine (SVM)"
      ]
    },
    {
      "cell_type": "code",
      "metadata": {
        "execution": {
          "iopub.status.busy": "2021-12-03T11:52:49.649457Z",
          "iopub.execute_input": "2021-12-03T11:52:49.650358Z",
          "iopub.status.idle": "2021-12-03T12:02:45.095051Z",
          "shell.execute_reply.started": "2021-12-03T11:52:49.650314Z",
          "shell.execute_reply": "2021-12-03T12:02:45.094140Z"
        },
        "trusted": true,
        "id": "uThdnMEErYGR",
        "outputId": "49fe503c-616e-44c9-82ba-735a14170099"
      },
      "source": [
        "from sklearn.svm import SVC\n",
        "\n",
        "svm = SVC()\n",
        "svm.fit(train,train_labels)\n",
        "pred_svm = svm.predict(test)\n",
        "\n",
        "plot_confusion_matrix(svm, test, test_labels)  \n",
        "plt.title('Confusion matrix for the SVM')\n",
        "plt.xlabel('Predicted')\n",
        "plt.ylabel('Actual')\n",
        "plt.show() \n",
        "\n",
        "print(classification_report(test_labels, pred_svm, target_names=label_names))\n",
        "accuracy['SVM']= accuracy_score(test_labels, pred_svm)\n",
        "f1_macro['SVM'] = f1_score(test_labels, pred_svm, average=\"macro\")\n",
        "f1_macro_bar.append(f1_score(test_labels, pred_svm, average=\"macro\"))\n",
        "accuracy_bar.append(accuracy_score(test_labels, pred_svm))\n",
        "barplotbefore.append(accuracy_score(test_labels, pred_svm))"
      ],
      "execution_count": null,
      "outputs": [
        {
          "output_type": "display_data",
          "data": {
            "text/plain": "<Figure size 432x288 with 2 Axes>",
            "image/png": "[encoded data removed]"
          },
          "metadata": {
            "needs_background": "light"
          }
        },
        {
          "name": "stdout",
          "text": "              precision    recall  f1-score   support\n\n           1       0.77      0.45      0.57      8187\n           2       0.60      0.80      0.68     16981\n           3       0.70      0.59      0.64     14331\n\n    accuracy                           0.65     39499\n   macro avg       0.69      0.61      0.63     39499\nweighted avg       0.67      0.65      0.65     39499\n\n",
          "output_type": "stream"
        }
      ]
    },
    {
      "cell_type": "code",
      "metadata": {
        "execution": {
          "iopub.status.busy": "2021-12-03T12:02:45.096528Z",
          "iopub.execute_input": "2021-12-03T12:02:45.097756Z",
          "iopub.status.idle": "2021-12-03T12:02:45.380505Z",
          "shell.execute_reply.started": "2021-12-03T12:02:45.097709Z",
          "shell.execute_reply": "2021-12-03T12:02:45.379703Z"
        },
        "trusted": true,
        "id": "ybZ-kWJgrYGR",
        "outputId": "180a6add-ffad-4dd4-840b-5e0c482d98aa"
      },
      "source": [
        "import matplotlib.pyplot as plt; plt.rcdefaults()\n",
        "import matplotlib.pyplot as plt;\n",
        "\n",
        "classifiers = ['Dummy\\nUniform', 'Dummy\\nConstant-1', 'Dummy\\nConstant-2', 'Dummy\\nConstant-3', 'Dummy\\nMost\\nFrequent', 'Dummy\\nStratified', 'MLP', 'SVM']\n",
        " \n",
        "plt.figure(figsize=(12,6)) \n",
        "X_axis = np.arange(len(classifiers))\n",
        "  \n",
        "plt.bar(X_axis - 0.125, accuracy_bar, 0.25, label = 'Accuracy')\n",
        "plt.bar(X_axis + 0.125, f1_macro_bar, 0.25, label = 'F1_macro')\n",
        "  \n",
        "plt.xticks(X_axis, classifiers)\n",
        "plt.xlabel(\"Classifier\")\n",
        "plt.title(\"Accuracy and F1\")\n",
        "plt.legend()\n",
        "plt.show()"
      ],
      "execution_count": null,
      "outputs": [
        {
          "output_type": "display_data",
          "data": {
            "text/plain": "<Figure size 1200x600 with 1 Axes>",
            "image/png": "[encoded data removed]"
          },
          "metadata": {}
        }
      ]
    },
    {
      "cell_type": "code",
      "metadata": {
        "execution": {
          "iopub.status.busy": "2021-12-03T12:02:45.381707Z",
          "iopub.execute_input": "2021-12-03T12:02:45.381915Z",
          "iopub.status.idle": "2021-12-03T12:02:45.397113Z",
          "shell.execute_reply.started": "2021-12-03T12:02:45.381889Z",
          "shell.execute_reply": "2021-12-03T12:02:45.393225Z"
        },
        "trusted": true,
        "id": "CtZN96ahrYGR",
        "outputId": "b4c05777-3e85-4832-e033-4f995e706c44"
      },
      "source": [
        "print(\"Classification Accuracy on the Dataset (30% test set)\\n\")\n",
        "sorted_accuracy = [(k, accuracy[k]) for k in sorted(accuracy, key=accuracy.get, reverse=True)]\n",
        "for k, v in sorted_accuracy:\n",
        "  print(k,\":\",v)\n",
        "print(\"\\n\")\n",
        "\n",
        "print(\"Classification F1 Macro on the Dataset (30% test set)\\n\")\n",
        "sorted_f1_macro = [(k, f1_macro[k]) for k in sorted(f1_macro, key=f1_macro.get, reverse=True)]\n",
        "for k, v in sorted_f1_macro:\n",
        "  print(k,\":\",v)\n",
        "print(\"\\n\")"
      ],
      "execution_count": null,
      "outputs": [
        {
          "name": "stdout",
          "text": "Classification Accuracy on the Dataset (30% test set)\n\nMLP : 0.6771057495126459\nSVM : 0.6522949948099952\nDummy Constant 2 : 0.42990961796501176\nDummy Most Frequent : 0.42990961796501176\nDummy Constant 3 : 0.36281931188131344\nDummy Stratified : 0.35765462416770044\nDummy Uniform (Random) : 0.3359831894478341\nDummy Constant 1 : 0.20727107015367477\n\n\nClassification F1 Macro on the Dataset (30% test set)\n\nMLP : 0.6634727001318436\nSVM : 0.6327874774240682\nDummy Stratified : 0.3320945240738784\nDummy Uniform (Random) : 0.3285979748693815\nDummy Constant 2 : 0.2004367327667611\nDummy Most Frequent : 0.2004367327667611\nDummy Constant 3 : 0.17748467397362067\nDummy Constant 1 : 0.11445707335486305\n\n\n",
          "output_type": "stream"
        }
      ]
    },
    {
      "cell_type": "markdown",
      "metadata": {
        "id": "3lBF1GnxrYGS"
      },
      "source": [
        "Από τους dummy classifiers χειρότερη επίδοση φαίνεται να έχουν οι constant (συμπεριλαμβανμένου και του most frequent), το οποίο ήταν αναμενόμενο λόγω των πολλαπλών κλάσεων. \n",
        "\n",
        "Γενικότερα, όλοι οι dummy classifiers έχουν χαμηλότερη απόδοση από τους MLP και SVM και τελικά την μεγαλύτερη ακρίβεια παρουσιάζει ο ταξινομητής MLP.\n",
        "\n",
        "Παρακάτω, θα προσπαθήσουμε να επιτύχουμε ακόμα καλύτερα αποτελέσματα για τους MLP και SVM με προεπεξεργασία των δεδομένων και βελτιστοποίηση των υπερπαραμέτρων των παραπάνω ταξινομητών."
      ]
    },
    {
      "cell_type": "markdown",
      "metadata": {
        "id": "Ok09zJS3rYGS"
      },
      "source": [
        "### Βελτιστοποίηση"
      ]
    },
    {
      "cell_type": "markdown",
      "metadata": {
        "id": "dHZQs3VFrYGS"
      },
      "source": [
        "Οι απουσιάζουσες τιμές των χαρακτηριστικών δεν υπάρχουν πια, καθώς τις διαχειριστήκαμε παραπάνω για να μπορέσουμε να εφαρμόσουμε τους ταξινομητές.\n",
        "\n",
        "Αντίστοιχα, τα κατηγορικά χαρακτηριστικά τα έχουμε αντικαταστήσει με αριθμητικά, επομένως δεν απαιτείται κάποια παραπάνω τροποποίηση πάνω σε αυτό.\n",
        "\n",
        "Για την επιλογή χαρακτηριστικών, θέλουμε να \"διώξουμε\" αυτά που έχουν πολύ μικρή διακύμανση. Για το σκοπό αυτό ορίζουμε ένα κατώφλι (threshold), με το οποίο θα φιλτράρουμε ουσιαστικά τα δεδομένα μας.\n"
      ]
    },
    {
      "cell_type": "markdown",
      "metadata": {
        "id": "c5TIYYjhrYGS"
      },
      "source": [
        "#### Κανονικοποίηση\n",
        "Τα χαρακτηριστικά με πολύ μεγάλες διαφορές στις τιμές τους μπορούν να δημιουργήσουν προβλήματα στην εκπαίδευση. Για το λόγο αυτό θα εφαρμόσουμε τη κανονικοποίηση για να μετασχηματίσουμε τις τιμές των χαρακτηριστικών και να αμβλυθούν οι διαφορές αυτές."
      ]
    },
    {
      "cell_type": "code",
      "metadata": {
        "execution": {
          "iopub.status.busy": "2021-12-03T12:02:45.398580Z",
          "iopub.execute_input": "2021-12-03T12:02:45.398875Z",
          "iopub.status.idle": "2021-12-03T12:02:45.429309Z",
          "shell.execute_reply.started": "2021-12-03T12:02:45.398833Z",
          "shell.execute_reply": "2021-12-03T12:02:45.428456Z"
        },
        "trusted": true,
        "id": "w8IE07CgrYGS"
      },
      "source": [
        "from sklearn import preprocessing\n",
        "scaler = preprocessing.StandardScaler().fit(train)\n",
        "train_scaled = scaler.transform(train)\n",
        "test_scaled = scaler.transform(test)"
      ],
      "execution_count": null,
      "outputs": []
    },
    {
      "cell_type": "code",
      "metadata": {
        "execution": {
          "iopub.status.busy": "2021-12-03T12:02:45.431740Z",
          "iopub.execute_input": "2021-12-03T12:02:45.432331Z",
          "iopub.status.idle": "2021-12-03T12:02:45.456468Z",
          "shell.execute_reply.started": "2021-12-03T12:02:45.432294Z",
          "shell.execute_reply": "2021-12-03T12:02:45.455655Z"
        },
        "trusted": true,
        "id": "CaiwcPbLrYGS",
        "outputId": "3632f703-f8c5-4661-dffb-84f418e17c07"
      },
      "source": [
        "from sklearn.feature_selection import VarianceThreshold\n",
        "\n",
        "train_variance = train_scaled.var(axis=0)\n",
        "print(\"Train variance: (sorted)\\n\",sorted(train_variance),\"\\n\")\n",
        "print(\"Max variance of a label:\\n\",np.max(train_variance),\"\\n\")\n",
        "print(\"Mean:\\n\",train_variance.mean(),\"\\n\")\n",
        "\n",
        "selector = VarianceThreshold()\n",
        "train_reduced = selector.fit_transform(train_scaled)\n",
        "mask = selector.get_support()\n",
        "print(mask)\n",
        "test_reduced = selector.transform(test_scaled)"
      ],
      "execution_count": null,
      "outputs": [
        {
          "name": "stdout",
          "text": "Train variance: (sorted)\n [0.9999999999999997, 0.9999999999999999, 0.9999999999999999, 0.9999999999999999, 1.0, 1.0000000000000002, 1.0000000000000002, 1.0000000000000002, 1.0000000000000002, 1.0000000000000002, 1.0000000000000002, 1.0000000000000002, 1.0000000000000004] \n\nMax variance of a label:\n 1.0000000000000004 \n\nMean:\n 1.0 \n\n[ True  True  True  True  True  True  True  True  True  True  True  True\n  True]\n",
          "output_type": "stream"
        }
      ]
    },
    {
      "cell_type": "markdown",
      "metadata": {
        "id": "lgS3pOHKrYGS"
      },
      "source": [
        "Παρατηρούμε πως δεν έχουμε χαρακτηριστικά με μηδενική διακύμανση (δηλαδή με σταθερή τιμή), επομένως δεν απορρίπτουμε κάποιο χαρακτηριστικό."
      ]
    },
    {
      "cell_type": "markdown",
      "metadata": {
        "id": "SktSixcQrYGT"
      },
      "source": [
        "#### Μείωση της διαστατικότητας με εξαγωγηή χαρακτηριστικών (με χρήση PCA)"
      ]
    },
    {
      "cell_type": "code",
      "metadata": {
        "execution": {
          "iopub.status.busy": "2021-12-03T12:02:45.457726Z",
          "iopub.execute_input": "2021-12-03T12:02:45.458292Z",
          "iopub.status.idle": "2021-12-03T12:02:45.521735Z",
          "shell.execute_reply.started": "2021-12-03T12:02:45.458256Z",
          "shell.execute_reply": "2021-12-03T12:02:45.520832Z"
        },
        "trusted": true,
        "id": "JYxEX5jnrYGT",
        "outputId": "2ecf66fc-1ec8-4087-b2af-876b5f5e1791"
      },
      "source": [
        "from sklearn.decomposition import PCA \n",
        "n = 12\n",
        "pca = PCA(n_components=n)\n",
        "\n",
        "trainPCA = pca.fit_transform(train_reduced)\n",
        "testPCA = pca.transform(test_reduced)\n",
        "\n",
        "print(trainPCA.shape)"
      ],
      "execution_count": null,
      "outputs": [
        {
          "name": "stdout",
          "text": "(92163, 12)\n",
          "output_type": "stream"
        }
      ]
    },
    {
      "cell_type": "code",
      "metadata": {
        "execution": {
          "iopub.status.busy": "2021-12-03T12:02:45.523577Z",
          "iopub.execute_input": "2021-12-03T12:02:45.524214Z",
          "iopub.status.idle": "2021-12-03T12:02:45.750086Z",
          "shell.execute_reply.started": "2021-12-03T12:02:45.524165Z",
          "shell.execute_reply": "2021-12-03T12:02:45.749514Z"
        },
        "trusted": true,
        "id": "5-YRviMmrYGT",
        "outputId": "12f0bb28-455b-4135-fe36-6012745e019a"
      },
      "source": [
        "evar = pca.explained_variance_ratio_\n",
        "cum_evar = np.cumsum(evar)\n",
        "print(cum_evar)\n",
        "plt.figure(1, figsize=(6, 6))\n",
        "plt.xlabel(\"Principal Component number\")\n",
        "plt.ylabel('Cumulative Variance')\n",
        "plt.plot(cum_evar, linewidth=2)\n",
        "plt.show()"
      ],
      "execution_count": null,
      "outputs": [
        {
          "name": "stdout",
          "text": "[0.18841623 0.32943719 0.43285114 0.52018545 0.60023355 0.67727265\n 0.75382123 0.82646747 0.89307978 0.94368321 0.97649406 0.99999978]\n",
          "output_type": "stream"
        },
        {
          "output_type": "display_data",
          "data": {
            "text/plain": "<Figure size 600x600 with 1 Axes>",
            "image/png": "[encoded data removed]"
          },
          "metadata": {}
        }
      ]
    },
    {
      "cell_type": "markdown",
      "metadata": {
        "id": "jbBcEiVsrYGT"
      },
      "source": [
        "Παρατηρούμε πως με 10 συνιστώσες περιγράφουμε το 99% της διακύμανσης του dataset.\n",
        "Ο αριθμός των συνιστωσών που κρατάμε είναι μια από τις υπερπαραμέτρους που θα προσδιοριστεί μέσω του Cross Validation."
      ]
    },
    {
      "cell_type": "code",
      "metadata": {
        "execution": {
          "iopub.status.busy": "2021-12-03T12:02:45.751219Z",
          "iopub.execute_input": "2021-12-03T12:02:45.751599Z",
          "iopub.status.idle": "2021-12-03T12:02:46.083955Z",
          "shell.execute_reply.started": "2021-12-03T12:02:45.751567Z",
          "shell.execute_reply": "2021-12-03T12:02:46.083072Z"
        },
        "trusted": true,
        "id": "_2jQZ1YwrYGT",
        "outputId": "bae773f1-5690-4085-cbf3-9434996bad78"
      },
      "source": [
        "n = 10\n",
        "pca = PCA(n_components=n)\n",
        "\n",
        "trainPCA = pca.fit_transform(train_reduced)\n",
        "testPCA = pca.transform(test_reduced)\n",
        "\n",
        "print(trainPCA.shape)"
      ],
      "execution_count": null,
      "outputs": [
        {
          "name": "stdout",
          "text": "(92163, 10)\n",
          "output_type": "stream"
        }
      ]
    },
    {
      "cell_type": "markdown",
      "metadata": {
        "id": "8XcNluEgrYGT"
      },
      "source": [
        "#### Multi Layer Perceptron (MLP)\n",
        "Επίδοση τους ταξινομητή MLP στο πλέον ισορροπημένο dataset με κανονικοποιημένα δεδομένα."
      ]
    },
    {
      "cell_type": "code",
      "metadata": {
        "execution": {
          "iopub.status.busy": "2021-12-03T12:02:46.085435Z",
          "iopub.execute_input": "2021-12-03T12:02:46.085934Z",
          "iopub.status.idle": "2021-12-03T12:05:31.040134Z",
          "shell.execute_reply.started": "2021-12-03T12:02:46.085885Z",
          "shell.execute_reply": "2021-12-03T12:05:31.039436Z"
        },
        "trusted": true,
        "id": "VdgxSSB3rYGT",
        "outputId": "d083ba75-22b8-4681-f02b-1b27ab4e3dc4"
      },
      "source": [
        "mlp = MLPClassifier()\n",
        "\n",
        "print(\"MLP Before\")\n",
        "print(classification_report(test_labels,pred_mlp))\n",
        "\n",
        "mlp.fit(train_scaled, train_labels)\n",
        "mlp_pred_scaled = mlp.predict(test_scaled)\n",
        "print(\"MLP After Normalization\")\n",
        "print(classification_report(test_labels,mlp_pred_scaled))\n",
        "\n",
        "mlp.fit(trainPCA, train_labels)\n",
        "mlp_pred_scaled = mlp.predict(testPCA)\n",
        "print(\"MLP After Normalization, Varience Threshold and PCA\")\n",
        "print(classification_report(test_labels,mlp_pred_scaled))"
      ],
      "execution_count": null,
      "outputs": [
        {
          "name": "stdout",
          "text": "MLP Before\n              precision    recall  f1-score   support\n\n           1       0.72      0.55      0.62      8187\n           2       0.63      0.81      0.71     16981\n           3       0.74      0.59      0.65     14331\n\n    accuracy                           0.68     39499\n   macro avg       0.70      0.65      0.66     39499\nweighted avg       0.69      0.68      0.67     39499\n\nMLP After Normalization\n              precision    recall  f1-score   support\n\n           1       0.72      0.57      0.64      8187\n           2       0.67      0.79      0.72     16981\n           3       0.73      0.66      0.69     14331\n\n    accuracy                           0.70     39499\n   macro avg       0.71      0.67      0.68     39499\nweighted avg       0.70      0.70      0.69     39499\n\nMLP After Normalization, Varience Threshold and PCA\n              precision    recall  f1-score   support\n\n           1       0.73      0.56      0.64      8187\n           2       0.66      0.81      0.73     16981\n           3       0.73      0.64      0.68     14331\n\n    accuracy                           0.69     39499\n   macro avg       0.71      0.67      0.68     39499\nweighted avg       0.70      0.69      0.69     39499\n\n",
          "output_type": "stream"
        }
      ]
    },
    {
      "cell_type": "markdown",
      "metadata": {
        "id": "c6Ba__gtrYGU"
      },
      "source": [
        "#### Support Vector Machines (SVM)\n",
        "Επίδοση τους ταξινομητή SVM στο πλέον ισορροπημένο dataset με κανονικοποιημένα δεδομένα."
      ]
    },
    {
      "cell_type": "code",
      "metadata": {
        "execution": {
          "iopub.status.busy": "2021-12-03T12:05:31.041210Z",
          "iopub.execute_input": "2021-12-03T12:05:31.041799Z",
          "iopub.status.idle": "2021-12-03T12:21:11.956405Z",
          "shell.execute_reply.started": "2021-12-03T12:05:31.041768Z",
          "shell.execute_reply": "2021-12-03T12:21:11.955393Z"
        },
        "trusted": true,
        "id": "aPSSgbRqrYGU",
        "outputId": "51372528-34f9-41b3-ef50-e4474f500760"
      },
      "source": [
        "svm = SVC()\n",
        "\n",
        "print(\"SVM Before\")\n",
        "print(classification_report(test_labels,pred_svm))\n",
        "\n",
        "svm.fit(train_scaled, train_labels)\n",
        "svm_pred_scaled = svm.predict(test_scaled)\n",
        "print(\"SVM After Normalization\")\n",
        "print(classification_report(test_labels,svm_pred_scaled))\n",
        "\n",
        "svm.fit(trainPCA, train_labels)\n",
        "svm_pred_scaled = svm.predict(testPCA)\n",
        "print(\"SVM After Normalization, Varience Threshold and PCA\")\n",
        "print(classification_report(test_labels,svm_pred_scaled))"
      ],
      "execution_count": null,
      "outputs": [
        {
          "name": "stdout",
          "text": "SVM Before\n              precision    recall  f1-score   support\n\n           1       0.77      0.45      0.57      8187\n           2       0.60      0.80      0.68     16981\n           3       0.70      0.59      0.64     14331\n\n    accuracy                           0.65     39499\n   macro avg       0.69      0.61      0.63     39499\nweighted avg       0.67      0.65      0.65     39499\n\nSVM After Normalization\n              precision    recall  f1-score   support\n\n           1       0.76      0.53      0.62      8187\n           2       0.63      0.85      0.73     16981\n           3       0.75      0.58      0.65     14331\n\n    accuracy                           0.68     39499\n   macro avg       0.71      0.65      0.67     39499\nweighted avg       0.70      0.68      0.68     39499\n\nSVM After Normalization, Varience Threshold and PCA\n              precision    recall  f1-score   support\n\n           1       0.74      0.53      0.62      8187\n           2       0.63      0.86      0.73     16981\n           3       0.75      0.56      0.64     14331\n\n    accuracy                           0.68     39499\n   macro avg       0.71      0.65      0.66     39499\nweighted avg       0.70      0.68      0.67     39499\n\n",
          "output_type": "stream"
        }
      ]
    },
    {
      "cell_type": "markdown",
      "metadata": {
        "id": "RN2bs0e5rYGU"
      },
      "source": [
        "#### Optuna"
      ]
    },
    {
      "cell_type": "code",
      "metadata": {
        "execution": {
          "iopub.status.busy": "2021-12-03T12:21:11.957989Z",
          "iopub.execute_input": "2021-12-03T12:21:11.958284Z",
          "iopub.status.idle": "2021-12-03T12:21:22.293452Z",
          "shell.execute_reply.started": "2021-12-03T12:21:11.958248Z",
          "shell.execute_reply": "2021-12-03T12:21:22.292358Z"
        },
        "trusted": true,
        "id": "znDGOedhrYGU",
        "outputId": "b9eba5b3-262f-4c67-dd81-6a5c82649f1a"
      },
      "source": [
        "!pip install optuna"
      ],
      "execution_count": null,
      "outputs": [
        {
          "name": "stdout",
          "text": "Requirement already satisfied: optuna in /opt/conda/lib/python3.7/site-packages (2.10.0)\nRequirement already satisfied: alembic in /opt/conda/lib/python3.7/site-packages (from optuna) (1.7.5)\nRequirement already satisfied: cmaes>=0.8.2 in /opt/conda/lib/python3.7/site-packages (from optuna) (0.8.2)\nRequirement already satisfied: numpy in /opt/conda/lib/python3.7/site-packages (from optuna) (1.19.5)\nRequirement already satisfied: scipy!=1.4.0 in /opt/conda/lib/python3.7/site-packages (from optuna) (1.7.2)\nRequirement already satisfied: colorlog in /opt/conda/lib/python3.7/site-packages (from optuna) (6.6.0)\nRequirement already satisfied: PyYAML in /opt/conda/lib/python3.7/site-packages (from optuna) (6.0)\nRequirement already satisfied: packaging>=20.0 in /opt/conda/lib/python3.7/site-packages (from optuna) (21.0)\nRequirement already satisfied: cliff in /opt/conda/lib/python3.7/site-packages (from optuna) (3.10.0)\nRequirement already satisfied: tqdm in /opt/conda/lib/python3.7/site-packages (from optuna) (4.62.3)\nRequirement already satisfied: sqlalchemy>=1.1.0 in /opt/conda/lib/python3.7/site-packages (from optuna) (1.4.27)\nRequirement already satisfied: pyparsing>=2.0.2 in /opt/conda/lib/python3.7/site-packages (from packaging>=20.0->optuna) (3.0.6)\nRequirement already satisfied: greenlet!=0.4.17 in /opt/conda/lib/python3.7/site-packages (from sqlalchemy>=1.1.0->optuna) (1.1.2)\nRequirement already satisfied: importlib-metadata in /opt/conda/lib/python3.7/site-packages (from sqlalchemy>=1.1.0->optuna) (4.8.2)\nRequirement already satisfied: importlib-resources in /opt/conda/lib/python3.7/site-packages (from alembic->optuna) (5.4.0)\nRequirement already satisfied: Mako in /opt/conda/lib/python3.7/site-packages (from alembic->optuna) (1.1.6)\nRequirement already satisfied: PrettyTable>=0.7.2 in /opt/conda/lib/python3.7/site-packages (from cliff->optuna) (2.4.0)\nRequirement already satisfied: autopage>=0.4.0 in /opt/conda/lib/python3.7/site-packages (from cliff->optuna) (0.4.0)\nRequirement already satisfied: cmd2>=1.0.0 in /opt/conda/lib/python3.7/site-packages (from cliff->optuna) (2.3.2)\nRequirement already satisfied: stevedore>=2.0.1 in /opt/conda/lib/python3.7/site-packages (from cliff->optuna) (3.5.0)\nRequirement already satisfied: pbr!=2.1.0,>=2.0.0 in /opt/conda/lib/python3.7/site-packages (from cliff->optuna) (5.8.0)\nRequirement already satisfied: typing-extensions in /opt/conda/lib/python3.7/site-packages (from cmd2>=1.0.0->cliff->optuna) (3.10.0.2)\nRequirement already satisfied: pyperclip>=1.6 in /opt/conda/lib/python3.7/site-packages (from cmd2>=1.0.0->cliff->optuna) (1.8.2)\nRequirement already satisfied: wcwidth>=0.1.7 in /opt/conda/lib/python3.7/site-packages (from cmd2>=1.0.0->cliff->optuna) (0.2.5)\nRequirement already satisfied: attrs>=16.3.0 in /opt/conda/lib/python3.7/site-packages (from cmd2>=1.0.0->cliff->optuna) (21.2.0)\nRequirement already satisfied: zipp>=0.5 in /opt/conda/lib/python3.7/site-packages (from importlib-metadata->sqlalchemy>=1.1.0->optuna) (3.6.0)\nRequirement already satisfied: MarkupSafe>=0.9.2 in /opt/conda/lib/python3.7/site-packages (from Mako->alembic->optuna) (2.0.1)\n\u001b[33mWARNING: Running pip as the 'root' user can result in broken permissions and conflicting behaviour with the system package manager. It is recommended to use a virtual environment instead: https://pip.pypa.io/warnings/venv\u001b[0m\n",
          "output_type": "stream"
        }
      ]
    },
    {
      "cell_type": "code",
      "metadata": {
        "execution": {
          "iopub.status.busy": "2021-12-03T12:21:22.296844Z",
          "iopub.execute_input": "2021-12-03T12:21:22.297212Z",
          "iopub.status.idle": "2021-12-03T12:21:23.179031Z",
          "shell.execute_reply.started": "2021-12-03T12:21:22.297167Z",
          "shell.execute_reply": "2021-12-03T12:21:23.178207Z"
        },
        "trusted": true,
        "id": "SZrYpeZNrYGU"
      },
      "source": [
        "import optuna\n",
        "import sklearn.datasets\n",
        "from sklearn.datasets import fetch_openml\n",
        "import sklearn.neural_network"
      ],
      "execution_count": null,
      "outputs": []
    },
    {
      "cell_type": "code",
      "metadata": {
        "execution": {
          "iopub.status.busy": "2021-12-03T12:21:23.181989Z",
          "iopub.execute_input": "2021-12-03T12:21:23.182231Z",
          "iopub.status.idle": "2021-12-03T15:34:48.349871Z",
          "shell.execute_reply.started": "2021-12-03T12:21:23.182204Z",
          "shell.execute_reply": "2021-12-03T15:34:48.348667Z"
        },
        "trusted": true,
        "id": "sBYPisd4rYGU",
        "outputId": "a8930e19-b9c6-4bd1-e794-e855f3bda3b0"
      },
      "source": [
        "from imblearn.pipeline import Pipeline\n",
        "from sklearn.model_selection import GridSearchCV\n",
        "from optuna.visualization import plot_optimization_history\n",
        "\n",
        "def objective(trial):\n",
        "\n",
        "    c = trial.suggest_float('svc_c', 0.1, 10, log=True)\n",
        "    svc = SVC(C=c, gamma='auto')\n",
        "\n",
        "    pipe = Pipeline(steps=[('scaler', scaler), ('selector', selector), ('pca', pca), ('svc', svc)])\n",
        "    vthreshold = [0, 0.1] #προσαρμόζουμε τις τιμές μας στο variance που παρατηρήσαμε\n",
        "    n_components = [10,11]\n",
        "    estimator = GridSearchCV(pipe, dict(selector__threshold=vthreshold, \n",
        "                                    pca__n_components=n_components), \n",
        "                                    cv=2, \n",
        "                                    scoring='accuracy', \n",
        "                                    n_jobs=-1,\n",
        "                                    verbose=1)\n",
        "    estimator.fit(train, train_labels)\n",
        "    pred = estimator.predict(test)\n",
        "    print(estimator.best_params_)\n",
        "    return accuracy_score(test_labels, pred)\n",
        "\n",
        "study = optuna.create_study(direction='maximize') \n",
        "study.optimize(objective, n_trials=10) \n",
        "barplot = [0,0]\n",
        "barplot[1]=(study.best_trial.value)  "
      ],
      "execution_count": null,
      "outputs": [
        {
          "name": "stderr",
          "text": "\u001b[32m[I 2021-12-03 12:21:23,191]\u001b[0m A new study created in memory with name: no-name-fab28790-b805-41b9-80d1-cc7f4222c129\u001b[0m\n",
          "output_type": "stream"
        },
        {
          "name": "stdout",
          "text": "Fitting 2 folds for each of 4 candidates, totalling 8 fits\n",
          "output_type": "stream"
        },
        {
          "name": "stderr",
          "text": "[Parallel(n_jobs=-1)]: Using backend LokyBackend with 4 concurrent workers.\n[Parallel(n_jobs=-1)]: Done   8 out of   8 | elapsed:  6.9min finished\n\u001b[32m[I 2021-12-03 12:35:41,046]\u001b[0m Trial 0 finished with value: 0.6825236081926125 and parameters: {'svc_c': 0.7308494800851976}. Best is trial 0 with value: 0.6825236081926125.\u001b[0m\n",
          "output_type": "stream"
        },
        {
          "name": "stdout",
          "text": "{'pca__n_components': 11, 'selector__threshold': 0}\nFitting 2 folds for each of 4 candidates, totalling 8 fits\n",
          "output_type": "stream"
        },
        {
          "name": "stderr",
          "text": "[Parallel(n_jobs=-1)]: Using backend LokyBackend with 4 concurrent workers.\n[Parallel(n_jobs=-1)]: Done   8 out of   8 | elapsed: 13.2min finished\n\u001b[32m[I 2021-12-03 13:06:42,558]\u001b[0m Trial 1 finished with value: 0.6815109243271982 and parameters: {'svc_c': 6.3727939637377915}. Best is trial 0 with value: 0.6825236081926125.\u001b[0m\n",
          "output_type": "stream"
        },
        {
          "name": "stdout",
          "text": "{'pca__n_components': 11, 'selector__threshold': 0}\nFitting 2 folds for each of 4 candidates, totalling 8 fits\n",
          "output_type": "stream"
        },
        {
          "name": "stderr",
          "text": "[Parallel(n_jobs=-1)]: Using backend LokyBackend with 4 concurrent workers.\n[Parallel(n_jobs=-1)]: Done   8 out of   8 | elapsed:  7.4min finished\n\u001b[32m[I 2021-12-03 13:20:41,342]\u001b[0m Trial 2 finished with value: 0.6796880933694524 and parameters: {'svc_c': 0.11436998182711473}. Best is trial 0 with value: 0.6825236081926125.\u001b[0m\n",
          "output_type": "stream"
        },
        {
          "name": "stdout",
          "text": "{'pca__n_components': 11, 'selector__threshold': 0}\nFitting 2 folds for each of 4 candidates, totalling 8 fits\n",
          "output_type": "stream"
        },
        {
          "name": "stderr",
          "text": "[Parallel(n_jobs=-1)]: Using backend LokyBackend with 4 concurrent workers.\n[Parallel(n_jobs=-1)]: Done   8 out of   8 | elapsed: 10.9min finished\n\u001b[32m[I 2021-12-03 13:45:23,508]\u001b[0m Trial 3 finished with value: 0.6822451201296236 and parameters: {'svc_c': 4.1888591577281895}. Best is trial 0 with value: 0.6825236081926125.\u001b[0m\n",
          "output_type": "stream"
        },
        {
          "name": "stdout",
          "text": "{'pca__n_components': 11, 'selector__threshold': 0}\nFitting 2 folds for each of 4 candidates, totalling 8 fits\n",
          "output_type": "stream"
        },
        {
          "name": "stderr",
          "text": "[Parallel(n_jobs=-1)]: Using backend LokyBackend with 4 concurrent workers.\n[Parallel(n_jobs=-1)]: Done   8 out of   8 | elapsed:  7.0min finished\n\u001b[32m[I 2021-12-03 13:59:02,446]\u001b[0m Trial 4 finished with value: 0.68199194916327 and parameters: {'svc_c': 0.31815307247596986}. Best is trial 0 with value: 0.6825236081926125.\u001b[0m\n",
          "output_type": "stream"
        },
        {
          "name": "stdout",
          "text": "{'pca__n_components': 11, 'selector__threshold': 0}\nFitting 2 folds for each of 4 candidates, totalling 8 fits\n",
          "output_type": "stream"
        },
        {
          "name": "stderr",
          "text": "[Parallel(n_jobs=-1)]: Using backend LokyBackend with 4 concurrent workers.\n[Parallel(n_jobs=-1)]: Done   8 out of   8 | elapsed:  7.0min finished\n\u001b[32m[I 2021-12-03 14:12:59,856]\u001b[0m Trial 5 finished with value: 0.6821691688397175 and parameters: {'svc_c': 0.4705534970143907}. Best is trial 0 with value: 0.6825236081926125.\u001b[0m\n",
          "output_type": "stream"
        },
        {
          "name": "stdout",
          "text": "{'pca__n_components': 11, 'selector__threshold': 0}\nFitting 2 folds for each of 4 candidates, totalling 8 fits\n",
          "output_type": "stream"
        },
        {
          "name": "stderr",
          "text": "[Parallel(n_jobs=-1)]: Using backend LokyBackend with 4 concurrent workers.\n[Parallel(n_jobs=-1)]: Done   8 out of   8 | elapsed: 10.2min finished\n\u001b[32m[I 2021-12-03 14:36:17,851]\u001b[0m Trial 6 finished with value: 0.6821944859363528 and parameters: {'svc_c': 3.736367234652294}. Best is trial 0 with value: 0.6825236081926125.\u001b[0m\n",
          "output_type": "stream"
        },
        {
          "name": "stdout",
          "text": "{'pca__n_components': 11, 'selector__threshold': 0}\nFitting 2 folds for each of 4 candidates, totalling 8 fits\n",
          "output_type": "stream"
        },
        {
          "name": "stderr",
          "text": "[Parallel(n_jobs=-1)]: Using backend LokyBackend with 4 concurrent workers.\n[Parallel(n_jobs=-1)]: Done   8 out of   8 | elapsed:  6.9min finished\n\u001b[32m[I 2021-12-03 14:49:51,559]\u001b[0m Trial 7 finished with value: 0.6820172662599053 and parameters: {'svc_c': 0.32787947775010395}. Best is trial 0 with value: 0.6825236081926125.\u001b[0m\n",
          "output_type": "stream"
        },
        {
          "name": "stdout",
          "text": "{'pca__n_components': 11, 'selector__threshold': 0}\nFitting 2 folds for each of 4 candidates, totalling 8 fits\n",
          "output_type": "stream"
        },
        {
          "name": "stderr",
          "text": "[Parallel(n_jobs=-1)]: Using backend LokyBackend with 4 concurrent workers.\n[Parallel(n_jobs=-1)]: Done   8 out of   8 | elapsed: 13.1min finished\n\u001b[32m[I 2021-12-03 15:21:13,878]\u001b[0m Trial 8 finished with value: 0.6815868756171042 and parameters: {'svc_c': 6.6904276494106085}. Best is trial 0 with value: 0.6825236081926125.\u001b[0m\n",
          "output_type": "stream"
        },
        {
          "name": "stdout",
          "text": "{'pca__n_components': 11, 'selector__threshold': 0}\nFitting 2 folds for each of 4 candidates, totalling 8 fits\n",
          "output_type": "stream"
        },
        {
          "name": "stderr",
          "text": "[Parallel(n_jobs=-1)]: Using backend LokyBackend with 4 concurrent workers.\n[Parallel(n_jobs=-1)]: Done   8 out of   8 | elapsed:  7.0min finished\n\u001b[32m[I 2021-12-03 15:34:48,341]\u001b[0m Trial 9 finished with value: 0.6817894123901871 and parameters: {'svc_c': 0.2686905645673516}. Best is trial 0 with value: 0.6825236081926125.\u001b[0m\n",
          "output_type": "stream"
        },
        {
          "name": "stdout",
          "text": "{'pca__n_components': 11, 'selector__threshold': 0}\n",
          "output_type": "stream"
        }
      ]
    },
    {
      "cell_type": "code",
      "metadata": {
        "execution": {
          "iopub.status.busy": "2021-12-03T15:34:48.352367Z",
          "iopub.execute_input": "2021-12-03T15:34:48.352638Z",
          "iopub.status.idle": "2021-12-03T15:34:48.519372Z",
          "shell.execute_reply.started": "2021-12-03T15:34:48.352576Z",
          "shell.execute_reply": "2021-12-03T15:34:48.518333Z"
        },
        "trusted": true,
        "id": "jsaNpgZirYGU",
        "outputId": "6edf7ffa-f023-4e71-d785-ba5272eaae83"
      },
      "source": [
        "plot_optimization_history(study)"
      ],
      "execution_count": null,
      "outputs": [
        {
          "output_type": "display_data",
          "data": {
            "text/html": "        <script type=\"text/javascript\">\n        window.PlotlyConfig = {MathJaxConfig: 'local'};\n        if (window.MathJax) {MathJax.Hub.Config({SVG: {font: \"STIX-Web\"}});}\n        if (typeof require !== 'undefined') {\n        require.undef(\"plotly\");\n        requirejs.config({\n            paths: {\n                'plotly': ['https://cdn.plot.ly/plotly-2.6.3.min']\n            }\n        });\n        require(['plotly'], function(Plotly) {\n            window._Plotly = Plotly;\n        });\n        }\n        </script>\n        "
          },
          "metadata": {}
        },
        {
          "output_type": "display_data",
          "data": {
            "text/html": "<div>                            <div id=\"6dca9627-a5c5-4ef6-9d71-77b2eca3990f\" class=\"plotly-graph-div\" style=\"height:525px; width:100%;\"></div>            <script type=\"text/javascript\">                require([\"plotly\"], function(Plotly) {                    window.PLOTLYENV=window.PLOTLYENV || {};                                    if (document.getElementById(\"6dca9627-a5c5-4ef6-9d71-77b2eca3990f\")) {                    Plotly.newPlot(                        \"6dca9627-a5c5-4ef6-9d71-77b2eca3990f\",                        [{\"mode\":\"markers\",\"name\":\"Objective Value\",\"x\":[0,1,2,3,4,5,6,7,8,9],\"y\":[0.6825236081926125,0.6815109243271982,0.6796880933694524,0.6822451201296236,0.68199194916327,0.6821691688397175,0.6821944859363528,0.6820172662599053,0.6815868756171042,0.6817894123901871],\"type\":\"scatter\"},{\"name\":\"Best Value\",\"x\":[0,1,2,3,4,5,6,7,8,9],\"y\":[0.6825236081926125,0.6825236081926125,0.6825236081926125,0.6825236081926125,0.6825236081926125,0.6825236081926125,0.6825236081926125,0.6825236081926125,0.6825236081926125,0.6825236081926125],\"type\":\"scatter\"}],                        {\"title\":{\"text\":\"Optimization History Plot\"},\"xaxis\":{\"title\":{\"text\":\"#Trials\"}},\"yaxis\":{\"title\":{\"text\":\"Objective Value\"}},\"template\":{\"data\":{\"bar\":[{\"error_x\":{\"color\":\"#2a3f5f\"},\"error_y\":{\"color\":\"#2a3f5f\"},\"marker\":{\"line\":{\"color\":\"#E5ECF6\",\"width\":0.5},\"pattern\":{\"fillmode\":\"overlay\",\"size\":10,\"solidity\":0.2}},\"type\":\"bar\"}],\"barpolar\":[{\"marker\":{\"line\":{\"color\":\"#E5ECF6\",\"width\":0.5},\"pattern\":{\"fillmode\":\"overlay\",\"size\":10,\"solidity\":0.2}},\"type\":\"barpolar\"}],\"carpet\":[{\"aaxis\":{\"endlinecolor\":\"#2a3f5f\",\"gridcolor\":\"white\",\"linecolor\":\"white\",\"minorgridcolor\":\"white\",\"startlinecolor\":\"#2a3f5f\"},\"baxis\":{\"endlinecolor\":\"#2a3f5f\",\"gridcolor\":\"white\",\"linecolor\":\"white\",\"minorgridcolor\":\"white\",\"startlinecolor\":\"#2a3f5f\"},\"type\":\"carpet\"}],\"choropleth\":[{\"colorbar\":{\"outlinewidth\":0,\"ticks\":\"\"},\"type\":\"choropleth\"}],\"contour\":[{\"colorbar\":{\"outlinewidth\":0,\"ticks\":\"\"},\"colorscale\":[[0.0,\"#0d0887\"],[0.1111111111111111,\"#46039f\"],[0.2222222222222222,\"#7201a8\"],[0.3333333333333333,\"#9c179e\"],[0.4444444444444444,\"#bd3786\"],[0.5555555555555556,\"#d8576b\"],[0.6666666666666666,\"#ed7953\"],[0.7777777777777778,\"#fb9f3a\"],[0.8888888888888888,\"#fdca26\"],[1.0,\"#f0f921\"]],\"type\":\"contour\"}],\"contourcarpet\":[{\"colorbar\":{\"outlinewidth\":0,\"ticks\":\"\"},\"type\":\"contourcarpet\"}],\"heatmap\":[{\"colorbar\":{\"outlinewidth\":0,\"ticks\":\"\"},\"colorscale\":[[0.0,\"#0d0887\"],[0.1111111111111111,\"#46039f\"],[0.2222222222222222,\"#7201a8\"],[0.3333333333333333,\"#9c179e\"],[0.4444444444444444,\"#bd3786\"],[0.5555555555555556,\"#d8576b\"],[0.6666666666666666,\"#ed7953\"],[0.7777777777777778,\"#fb9f3a\"],[0.8888888888888888,\"#fdca26\"],[1.0,\"#f0f921\"]],\"type\":\"heatmap\"}],\"heatmapgl\":[{\"colorbar\":{\"outlinewidth\":0,\"ticks\":\"\"},\"colorscale\":[[0.0,\"#0d0887\"],[0.1111111111111111,\"#46039f\"],[0.2222222222222222,\"#7201a8\"],[0.3333333333333333,\"#9c179e\"],[0.4444444444444444,\"#bd3786\"],[0.5555555555555556,\"#d8576b\"],[0.6666666666666666,\"#ed7953\"],[0.7777777777777778,\"#fb9f3a\"],[0.8888888888888888,\"#fdca26\"],[1.0,\"#f0f921\"]],\"type\":\"heatmapgl\"}],\"histogram\":[{\"marker\":{\"pattern\":{\"fillmode\":\"overlay\",\"size\":10,\"solidity\":0.2}},\"type\":\"histogram\"}],\"histogram2d\":[{\"colorbar\":{\"outlinewidth\":0,\"ticks\":\"\"},\"colorscale\":[[0.0,\"#0d0887\"],[0.1111111111111111,\"#46039f\"],[0.2222222222222222,\"#7201a8\"],[0.3333333333333333,\"#9c179e\"],[0.4444444444444444,\"#bd3786\"],[0.5555555555555556,\"#d8576b\"],[0.6666666666666666,\"#ed7953\"],[0.7777777777777778,\"#fb9f3a\"],[0.8888888888888888,\"#fdca26\"],[1.0,\"#f0f921\"]],\"type\":\"histogram2d\"}],\"histogram2dcontour\":[{\"colorbar\":{\"outlinewidth\":0,\"ticks\":\"\"},\"colorscale\":[[0.0,\"#0d0887\"],[0.1111111111111111,\"#46039f\"],[0.2222222222222222,\"#7201a8\"],[0.3333333333333333,\"#9c179e\"],[0.4444444444444444,\"#bd3786\"],[0.5555555555555556,\"#d8576b\"],[0.6666666666666666,\"#ed7953\"],[0.7777777777777778,\"#fb9f3a\"],[0.8888888888888888,\"#fdca26\"],[1.0,\"#f0f921\"]],\"type\":\"histogram2dcontour\"}],\"mesh3d\":[{\"colorbar\":{\"outlinewidth\":0,\"ticks\":\"\"},\"type\":\"mesh3d\"}],\"parcoords\":[{\"line\":{\"colorbar\":{\"outlinewidth\":0,\"ticks\":\"\"}},\"type\":\"parcoords\"}],\"pie\":[{\"automargin\":true,\"type\":\"pie\"}],\"scatter\":[{\"marker\":{\"colorbar\":{\"outlinewidth\":0,\"ticks\":\"\"}},\"type\":\"scatter\"}],\"scatter3d\":[{\"line\":{\"colorbar\":{\"outlinewidth\":0,\"ticks\":\"\"}},\"marker\":{\"colorbar\":{\"outlinewidth\":0,\"ticks\":\"\"}},\"type\":\"scatter3d\"}],\"scattercarpet\":[{\"marker\":{\"colorbar\":{\"outlinewidth\":0,\"ticks\":\"\"}},\"type\":\"scattercarpet\"}],\"scattergeo\":[{\"marker\":{\"colorbar\":{\"outlinewidth\":0,\"ticks\":\"\"}},\"type\":\"scattergeo\"}],\"scattergl\":[{\"marker\":{\"colorbar\":{\"outlinewidth\":0,\"ticks\":\"\"}},\"type\":\"scattergl\"}],\"scattermapbox\":[{\"marker\":{\"colorbar\":{\"outlinewidth\":0,\"ticks\":\"\"}},\"type\":\"scattermapbox\"}],\"scatterpolar\":[{\"marker\":{\"colorbar\":{\"outlinewidth\":0,\"ticks\":\"\"}},\"type\":\"scatterpolar\"}],\"scatterpolargl\":[{\"marker\":{\"colorbar\":{\"outlinewidth\":0,\"ticks\":\"\"}},\"type\":\"scatterpolargl\"}],\"scatterternary\":[{\"marker\":{\"colorbar\":{\"outlinewidth\":0,\"ticks\":\"\"}},\"type\":\"scatterternary\"}],\"surface\":[{\"colorbar\":{\"outlinewidth\":0,\"ticks\":\"\"},\"colorscale\":[[0.0,\"#0d0887\"],[0.1111111111111111,\"#46039f\"],[0.2222222222222222,\"#7201a8\"],[0.3333333333333333,\"#9c179e\"],[0.4444444444444444,\"#bd3786\"],[0.5555555555555556,\"#d8576b\"],[0.6666666666666666,\"#ed7953\"],[0.7777777777777778,\"#fb9f3a\"],[0.8888888888888888,\"#fdca26\"],[1.0,\"#f0f921\"]],\"type\":\"surface\"}],\"table\":[{\"cells\":{\"fill\":{\"color\":\"#EBF0F8\"},\"line\":{\"color\":\"white\"}},\"header\":{\"fill\":{\"color\":\"#C8D4E3\"},\"line\":{\"color\":\"white\"}},\"type\":\"table\"}]},\"layout\":{\"annotationdefaults\":{\"arrowcolor\":\"#2a3f5f\",\"arrowhead\":0,\"arrowwidth\":1},\"autotypenumbers\":\"strict\",\"coloraxis\":{\"colorbar\":{\"outlinewidth\":0,\"ticks\":\"\"}},\"colorscale\":{\"diverging\":[[0,\"#8e0152\"],[0.1,\"#c51b7d\"],[0.2,\"#de77ae\"],[0.3,\"#f1b6da\"],[0.4,\"#fde0ef\"],[0.5,\"#f7f7f7\"],[0.6,\"#e6f5d0\"],[0.7,\"#b8e186\"],[0.8,\"#7fbc41\"],[0.9,\"#4d9221\"],[1,\"#276419\"]],\"sequential\":[[0.0,\"#0d0887\"],[0.1111111111111111,\"#46039f\"],[0.2222222222222222,\"#7201a8\"],[0.3333333333333333,\"#9c179e\"],[0.4444444444444444,\"#bd3786\"],[0.5555555555555556,\"#d8576b\"],[0.6666666666666666,\"#ed7953\"],[0.7777777777777778,\"#fb9f3a\"],[0.8888888888888888,\"#fdca26\"],[1.0,\"#f0f921\"]],\"sequentialminus\":[[0.0,\"#0d0887\"],[0.1111111111111111,\"#46039f\"],[0.2222222222222222,\"#7201a8\"],[0.3333333333333333,\"#9c179e\"],[0.4444444444444444,\"#bd3786\"],[0.5555555555555556,\"#d8576b\"],[0.6666666666666666,\"#ed7953\"],[0.7777777777777778,\"#fb9f3a\"],[0.8888888888888888,\"#fdca26\"],[1.0,\"#f0f921\"]]},\"colorway\":[\"#636efa\",\"#EF553B\",\"#00cc96\",\"#ab63fa\",\"#FFA15A\",\"#19d3f3\",\"#FF6692\",\"#B6E880\",\"#FF97FF\",\"#FECB52\"],\"font\":{\"color\":\"#2a3f5f\"},\"geo\":{\"bgcolor\":\"white\",\"lakecolor\":\"white\",\"landcolor\":\"#E5ECF6\",\"showlakes\":true,\"showland\":true,\"subunitcolor\":\"white\"},\"hoverlabel\":{\"align\":\"left\"},\"hovermode\":\"closest\",\"mapbox\":{\"style\":\"light\"},\"paper_bgcolor\":\"white\",\"plot_bgcolor\":\"#E5ECF6\",\"polar\":{\"angularaxis\":{\"gridcolor\":\"white\",\"linecolor\":\"white\",\"ticks\":\"\"},\"bgcolor\":\"#E5ECF6\",\"radialaxis\":{\"gridcolor\":\"white\",\"linecolor\":\"white\",\"ticks\":\"\"}},\"scene\":{\"xaxis\":{\"backgroundcolor\":\"#E5ECF6\",\"gridcolor\":\"white\",\"gridwidth\":2,\"linecolor\":\"white\",\"showbackground\":true,\"ticks\":\"\",\"zerolinecolor\":\"white\"},\"yaxis\":{\"backgroundcolor\":\"#E5ECF6\",\"gridcolor\":\"white\",\"gridwidth\":2,\"linecolor\":\"white\",\"showbackground\":true,\"ticks\":\"\",\"zerolinecolor\":\"white\"},\"zaxis\":{\"backgroundcolor\":\"#E5ECF6\",\"gridcolor\":\"white\",\"gridwidth\":2,\"linecolor\":\"white\",\"showbackground\":true,\"ticks\":\"\",\"zerolinecolor\":\"white\"}},\"shapedefaults\":{\"line\":{\"color\":\"#2a3f5f\"}},\"ternary\":{\"aaxis\":{\"gridcolor\":\"white\",\"linecolor\":\"white\",\"ticks\":\"\"},\"baxis\":{\"gridcolor\":\"white\",\"linecolor\":\"white\",\"ticks\":\"\"},\"bgcolor\":\"#E5ECF6\",\"caxis\":{\"gridcolor\":\"white\",\"linecolor\":\"white\",\"ticks\":\"\"}},\"title\":{\"x\":0.05},\"xaxis\":{\"automargin\":true,\"gridcolor\":\"white\",\"linecolor\":\"white\",\"ticks\":\"\",\"title\":{\"standoff\":15},\"zerolinecolor\":\"white\",\"zerolinewidth\":2},\"yaxis\":{\"automargin\":true,\"gridcolor\":\"white\",\"linecolor\":\"white\",\"ticks\":\"\",\"title\":{\"standoff\":15},\"zerolinecolor\":\"white\",\"zerolinewidth\":2}}}},                        {\"responsive\": true}                    ).then(function(){\n                            \nvar gd = document.getElementById('6dca9627-a5c5-4ef6-9d71-77b2eca3990f');\nvar x = new MutationObserver(function (mutations, observer) {{\n        var display = window.getComputedStyle(gd).display;\n        if (!display || display === 'none') {{\n            console.log([gd, 'removed!']);\n            Plotly.purge(gd);\n            observer.disconnect();\n        }}\n}});\n\n// Listen for the removal of the full notebook cells\nvar notebookContainer = gd.closest('#notebook-container');\nif (notebookContainer) {{\n    x.observe(notebookContainer, {childList: true});\n}}\n\n// Listen for the clearing of the current output cell\nvar outputEl = gd.closest('.output');\nif (outputEl) {{\n    x.observe(outputEl, {childList: true});\n}}\n\n                        })                };                });            </script>        </div>"
          },
          "metadata": {}
        }
      ]
    },
    {
      "cell_type": "markdown",
      "metadata": {
        "id": "hvR3y5CFz41O"
      },
      "source": [
        "Το παραπάνω διάγραμμα σε φωτογραφία σε περίπτωση που δεν εμφανίζεται."
      ]
    },
    {
      "cell_type": "markdown",
      "metadata": {
        "id": "wbX_p5j5zqdf"
      },
      "source": [
        "![image.png](data:image/png;base64,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)"
      ]
    },
    {
      "cell_type": "code",
      "metadata": {
        "execution": {
          "iopub.status.busy": "2021-12-03T15:34:48.520965Z",
          "iopub.execute_input": "2021-12-03T15:34:48.521321Z",
          "iopub.status.idle": "2021-12-03T18:38:01.917671Z",
          "shell.execute_reply.started": "2021-12-03T15:34:48.521280Z",
          "shell.execute_reply": "2021-12-03T18:38:01.915389Z"
        },
        "trusted": true,
        "id": "xgH2QABKrYGV",
        "outputId": "618b8607-0880-44ee-e4c3-fd981cf9990e"
      },
      "source": [
        "def objective(trial):\n",
        "\n",
        "    n_layers = trial.suggest_int('n_layers', 1, 100)\n",
        "    layers = []\n",
        "    for i in range(n_layers):\n",
        "        layers.append(trial.suggest_int(f'n_units_{i}', 10, 20))\n",
        "    mlp = MLPClassifier(hidden_layer_sizes=tuple(layers))\n",
        "    \n",
        "\n",
        "    pipe = Pipeline(steps=[('scaler', scaler), ('selector', selector), ('pca', pca), ('mlp', mlp)])\n",
        "    vthreshold = [0, 0.1] #προσαρμόζουμε τις τιμές μας στο variance που παρατηρήσαμε\n",
        "    n_components = [10,11]\n",
        "    estimator = GridSearchCV(pipe, dict(selector__threshold=vthreshold, \n",
        "                                    pca__n_components=n_components), \n",
        "                                    cv=2, \n",
        "                                    scoring='accuracy', \n",
        "                                    n_jobs=-1,\n",
        "                                    verbose=1)\n",
        "    estimator.fit(train, train_labels)\n",
        "    pred = estimator.predict(test)\n",
        "    print(estimator.best_params_)\n",
        "    return accuracy_score(test_labels, pred)\n",
        "\n",
        "study = optuna.create_study(direction='maximize')  \n",
        "study.optimize(objective, n_trials=20)  \n",
        "barplot[0]=(study.best_trial.value)"
      ],
      "execution_count": null,
      "outputs": [
        {
          "name": "stderr",
          "text": "\u001b[32m[I 2021-12-03 15:34:48,531]\u001b[0m A new study created in memory with name: no-name-8edf8524-64ff-4a69-80b9-b60f64185d0e\u001b[0m\n",
          "output_type": "stream"
        },
        {
          "name": "stdout",
          "text": "Fitting 2 folds for each of 4 candidates, totalling 8 fits\n",
          "output_type": "stream"
        },
        {
          "name": "stderr",
          "text": "[Parallel(n_jobs=-1)]: Using backend LokyBackend with 4 concurrent workers.\n[Parallel(n_jobs=-1)]: Done   8 out of   8 | elapsed:  2.1min finished\n\u001b[32m[I 2021-12-03 15:38:11,609]\u001b[0m Trial 0 finished with value: 0.42990961796501176 and parameters: {'n_layers': 54, 'n_units_0': 18, 'n_units_1': 19, 'n_units_2': 16, 'n_units_3': 11, 'n_units_4': 14, 'n_units_5': 10, 'n_units_6': 10, 'n_units_7': 10, 'n_units_8': 17, 'n_units_9': 19, 'n_units_10': 11, 'n_units_11': 16, 'n_units_12': 16, 'n_units_13': 14, 'n_units_14': 20, 'n_units_15': 10, 'n_units_16': 18, 'n_units_17': 11, 'n_units_18': 16, 'n_units_19': 14, 'n_units_20': 18, 'n_units_21': 13, 'n_units_22': 17, 'n_units_23': 18, 'n_units_24': 17, 'n_units_25': 13, 'n_units_26': 19, 'n_units_27': 20, 'n_units_28': 13, 'n_units_29': 10, 'n_units_30': 16, 'n_units_31': 12, 'n_units_32': 19, 'n_units_33': 14, 'n_units_34': 15, 'n_units_35': 13, 'n_units_36': 12, 'n_units_37': 18, 'n_units_38': 13, 'n_units_39': 16, 'n_units_40': 15, 'n_units_41': 20, 'n_units_42': 10, 'n_units_43': 18, 'n_units_44': 19, 'n_units_45': 13, 'n_units_46': 10, 'n_units_47': 10, 'n_units_48': 12, 'n_units_49': 19, 'n_units_50': 11, 'n_units_51': 10, 'n_units_52': 15, 'n_units_53': 17}. Best is trial 0 with value: 0.42990961796501176.\u001b[0m\n",
          "output_type": "stream"
        },
        {
          "name": "stdout",
          "text": "{'pca__n_components': 10, 'selector__threshold': 0}\nFitting 2 folds for each of 4 candidates, totalling 8 fits\n",
          "output_type": "stream"
        },
        {
          "name": "stderr",
          "text": "[Parallel(n_jobs=-1)]: Using backend LokyBackend with 4 concurrent workers.\n[Parallel(n_jobs=-1)]: Done   8 out of   8 | elapsed:  4.0min finished\n\u001b[32m[I 2021-12-03 15:44:02,686]\u001b[0m Trial 1 finished with value: 0.42990961796501176 and parameters: {'n_layers': 88, 'n_units_0': 14, 'n_units_1': 20, 'n_units_2': 12, 'n_units_3': 11, 'n_units_4': 18, 'n_units_5': 16, 'n_units_6': 10, 'n_units_7': 13, 'n_units_8': 19, 'n_units_9': 14, 'n_units_10': 11, 'n_units_11': 16, 'n_units_12': 10, 'n_units_13': 10, 'n_units_14': 10, 'n_units_15': 20, 'n_units_16': 14, 'n_units_17': 12, 'n_units_18': 20, 'n_units_19': 18, 'n_units_20': 14, 'n_units_21': 16, 'n_units_22': 12, 'n_units_23': 12, 'n_units_24': 20, 'n_units_25': 17, 'n_units_26': 19, 'n_units_27': 10, 'n_units_28': 20, 'n_units_29': 15, 'n_units_30': 18, 'n_units_31': 12, 'n_units_32': 12, 'n_units_33': 10, 'n_units_34': 17, 'n_units_35': 20, 'n_units_36': 14, 'n_units_37': 20, 'n_units_38': 11, 'n_units_39': 18, 'n_units_40': 15, 'n_units_41': 16, 'n_units_42': 11, 'n_units_43': 18, 'n_units_44': 20, 'n_units_45': 19, 'n_units_46': 12, 'n_units_47': 12, 'n_units_48': 19, 'n_units_49': 19, 'n_units_50': 10, 'n_units_51': 17, 'n_units_52': 19, 'n_units_53': 20, 'n_units_54': 10, 'n_units_55': 12, 'n_units_56': 13, 'n_units_57': 13, 'n_units_58': 16, 'n_units_59': 15, 'n_units_60': 12, 'n_units_61': 18, 'n_units_62': 16, 'n_units_63': 10, 'n_units_64': 17, 'n_units_65': 16, 'n_units_66': 11, 'n_units_67': 10, 'n_units_68': 11, 'n_units_69': 18, 'n_units_70': 10, 'n_units_71': 12, 'n_units_72': 14, 'n_units_73': 13, 'n_units_74': 18, 'n_units_75': 20, 'n_units_76': 14, 'n_units_77': 20, 'n_units_78': 19, 'n_units_79': 17, 'n_units_80': 17, 'n_units_81': 13, 'n_units_82': 20, 'n_units_83': 16, 'n_units_84': 15, 'n_units_85': 20, 'n_units_86': 13, 'n_units_87': 19}. Best is trial 0 with value: 0.42990961796501176.\u001b[0m\n",
          "output_type": "stream"
        },
        {
          "name": "stdout",
          "text": "{'pca__n_components': 10, 'selector__threshold': 0}\nFitting 2 folds for each of 4 candidates, totalling 8 fits\n",
          "output_type": "stream"
        },
        {
          "name": "stderr",
          "text": "[Parallel(n_jobs=-1)]: Using backend LokyBackend with 4 concurrent workers.\n[Parallel(n_jobs=-1)]: Done   8 out of   8 | elapsed:  4.3min finished\n\u001b[32m[I 2021-12-03 15:51:24,024]\u001b[0m Trial 2 finished with value: 0.42990961796501176 and parameters: {'n_layers': 99, 'n_units_0': 19, 'n_units_1': 17, 'n_units_2': 20, 'n_units_3': 16, 'n_units_4': 13, 'n_units_5': 14, 'n_units_6': 16, 'n_units_7': 12, 'n_units_8': 11, 'n_units_9': 10, 'n_units_10': 20, 'n_units_11': 10, 'n_units_12': 11, 'n_units_13': 10, 'n_units_14': 11, 'n_units_15': 17, 'n_units_16': 12, 'n_units_17': 16, 'n_units_18': 13, 'n_units_19': 15, 'n_units_20': 16, 'n_units_21': 13, 'n_units_22': 12, 'n_units_23': 11, 'n_units_24': 20, 'n_units_25': 11, 'n_units_26': 11, 'n_units_27': 15, 'n_units_28': 16, 'n_units_29': 19, 'n_units_30': 16, 'n_units_31': 15, 'n_units_32': 10, 'n_units_33': 15, 'n_units_34': 10, 'n_units_35': 14, 'n_units_36': 10, 'n_units_37': 19, 'n_units_38': 10, 'n_units_39': 14, 'n_units_40': 15, 'n_units_41': 11, 'n_units_42': 16, 'n_units_43': 18, 'n_units_44': 15, 'n_units_45': 17, 'n_units_46': 12, 'n_units_47': 20, 'n_units_48': 18, 'n_units_49': 19, 'n_units_50': 15, 'n_units_51': 19, 'n_units_52': 20, 'n_units_53': 17, 'n_units_54': 16, 'n_units_55': 15, 'n_units_56': 14, 'n_units_57': 15, 'n_units_58': 13, 'n_units_59': 10, 'n_units_60': 19, 'n_units_61': 13, 'n_units_62': 10, 'n_units_63': 18, 'n_units_64': 19, 'n_units_65': 12, 'n_units_66': 17, 'n_units_67': 18, 'n_units_68': 15, 'n_units_69': 13, 'n_units_70': 15, 'n_units_71': 13, 'n_units_72': 14, 'n_units_73': 15, 'n_units_74': 10, 'n_units_75': 15, 'n_units_76': 19, 'n_units_77': 17, 'n_units_78': 20, 'n_units_79': 12, 'n_units_80': 19, 'n_units_81': 11, 'n_units_82': 13, 'n_units_83': 19, 'n_units_84': 12, 'n_units_85': 15, 'n_units_86': 11, 'n_units_87': 19, 'n_units_88': 20, 'n_units_89': 19, 'n_units_90': 16, 'n_units_91': 19, 'n_units_92': 20, 'n_units_93': 18, 'n_units_94': 19, 'n_units_95': 15, 'n_units_96': 15, 'n_units_97': 15, 'n_units_98': 18}. Best is trial 0 with value: 0.42990961796501176.\u001b[0m\n",
          "output_type": "stream"
        },
        {
          "name": "stdout",
          "text": "{'pca__n_components': 10, 'selector__threshold': 0}\nFitting 2 folds for each of 4 candidates, totalling 8 fits\n",
          "output_type": "stream"
        },
        {
          "name": "stderr",
          "text": "[Parallel(n_jobs=-1)]: Using backend LokyBackend with 4 concurrent workers.\n[Parallel(n_jobs=-1)]: Done   8 out of   8 | elapsed:  2.1min finished\n\u001b[32m[I 2021-12-03 15:54:24,499]\u001b[0m Trial 3 finished with value: 0.42990961796501176 and parameters: {'n_layers': 45, 'n_units_0': 11, 'n_units_1': 14, 'n_units_2': 13, 'n_units_3': 16, 'n_units_4': 11, 'n_units_5': 18, 'n_units_6': 15, 'n_units_7': 17, 'n_units_8': 20, 'n_units_9': 12, 'n_units_10': 12, 'n_units_11': 10, 'n_units_12': 18, 'n_units_13': 12, 'n_units_14': 18, 'n_units_15': 14, 'n_units_16': 10, 'n_units_17': 14, 'n_units_18': 18, 'n_units_19': 19, 'n_units_20': 20, 'n_units_21': 16, 'n_units_22': 16, 'n_units_23': 17, 'n_units_24': 11, 'n_units_25': 13, 'n_units_26': 12, 'n_units_27': 20, 'n_units_28': 17, 'n_units_29': 20, 'n_units_30': 11, 'n_units_31': 11, 'n_units_32': 19, 'n_units_33': 19, 'n_units_34': 11, 'n_units_35': 12, 'n_units_36': 17, 'n_units_37': 10, 'n_units_38': 10, 'n_units_39': 17, 'n_units_40': 11, 'n_units_41': 12, 'n_units_42': 15, 'n_units_43': 15, 'n_units_44': 12}. Best is trial 0 with value: 0.42990961796501176.\u001b[0m\n",
          "output_type": "stream"
        },
        {
          "name": "stdout",
          "text": "{'pca__n_components': 10, 'selector__threshold': 0}\nFitting 2 folds for each of 4 candidates, totalling 8 fits\n",
          "output_type": "stream"
        },
        {
          "name": "stderr",
          "text": "[Parallel(n_jobs=-1)]: Using backend LokyBackend with 4 concurrent workers.\n[Parallel(n_jobs=-1)]: Done   8 out of   8 | elapsed:  2.2min finished\n\u001b[32m[I 2021-12-03 15:57:49,073]\u001b[0m Trial 4 finished with value: 0.42990961796501176 and parameters: {'n_layers': 50, 'n_units_0': 14, 'n_units_1': 15, 'n_units_2': 18, 'n_units_3': 18, 'n_units_4': 20, 'n_units_5': 13, 'n_units_6': 20, 'n_units_7': 17, 'n_units_8': 12, 'n_units_9': 18, 'n_units_10': 12, 'n_units_11': 16, 'n_units_12': 11, 'n_units_13': 12, 'n_units_14': 17, 'n_units_15': 17, 'n_units_16': 16, 'n_units_17': 15, 'n_units_18': 12, 'n_units_19': 14, 'n_units_20': 10, 'n_units_21': 18, 'n_units_22': 11, 'n_units_23': 18, 'n_units_24': 11, 'n_units_25': 20, 'n_units_26': 12, 'n_units_27': 13, 'n_units_28': 10, 'n_units_29': 19, 'n_units_30': 16, 'n_units_31': 16, 'n_units_32': 10, 'n_units_33': 20, 'n_units_34': 11, 'n_units_35': 10, 'n_units_36': 17, 'n_units_37': 13, 'n_units_38': 17, 'n_units_39': 10, 'n_units_40': 16, 'n_units_41': 12, 'n_units_42': 20, 'n_units_43': 18, 'n_units_44': 12, 'n_units_45': 17, 'n_units_46': 19, 'n_units_47': 16, 'n_units_48': 18, 'n_units_49': 17}. Best is trial 0 with value: 0.42990961796501176.\u001b[0m\n",
          "output_type": "stream"
        },
        {
          "name": "stdout",
          "text": "{'pca__n_components': 10, 'selector__threshold': 0}\nFitting 2 folds for each of 4 candidates, totalling 8 fits\n",
          "output_type": "stream"
        },
        {
          "name": "stderr",
          "text": "[Parallel(n_jobs=-1)]: Using backend LokyBackend with 4 concurrent workers.\n[Parallel(n_jobs=-1)]: Done   8 out of   8 | elapsed:  2.9min finished\n\u001b[32m[I 2021-12-03 16:02:08,687]\u001b[0m Trial 5 finished with value: 0.42990961796501176 and parameters: {'n_layers': 70, 'n_units_0': 11, 'n_units_1': 10, 'n_units_2': 11, 'n_units_3': 15, 'n_units_4': 13, 'n_units_5': 19, 'n_units_6': 14, 'n_units_7': 10, 'n_units_8': 12, 'n_units_9': 11, 'n_units_10': 16, 'n_units_11': 19, 'n_units_12': 17, 'n_units_13': 18, 'n_units_14': 13, 'n_units_15': 19, 'n_units_16': 11, 'n_units_17': 15, 'n_units_18': 10, 'n_units_19': 19, 'n_units_20': 16, 'n_units_21': 10, 'n_units_22': 20, 'n_units_23': 20, 'n_units_24': 10, 'n_units_25': 12, 'n_units_26': 18, 'n_units_27': 11, 'n_units_28': 14, 'n_units_29': 17, 'n_units_30': 16, 'n_units_31': 10, 'n_units_32': 18, 'n_units_33': 14, 'n_units_34': 19, 'n_units_35': 11, 'n_units_36': 14, 'n_units_37': 18, 'n_units_38': 14, 'n_units_39': 18, 'n_units_40': 18, 'n_units_41': 17, 'n_units_42': 19, 'n_units_43': 20, 'n_units_44': 19, 'n_units_45': 12, 'n_units_46': 14, 'n_units_47': 10, 'n_units_48': 10, 'n_units_49': 13, 'n_units_50': 17, 'n_units_51': 13, 'n_units_52': 16, 'n_units_53': 11, 'n_units_54': 19, 'n_units_55': 11, 'n_units_56': 11, 'n_units_57': 15, 'n_units_58': 19, 'n_units_59': 11, 'n_units_60': 19, 'n_units_61': 20, 'n_units_62': 19, 'n_units_63': 12, 'n_units_64': 10, 'n_units_65': 17, 'n_units_66': 19, 'n_units_67': 10, 'n_units_68': 11, 'n_units_69': 12}. Best is trial 0 with value: 0.42990961796501176.\u001b[0m\n",
          "output_type": "stream"
        },
        {
          "name": "stdout",
          "text": "{'pca__n_components': 10, 'selector__threshold': 0}\nFitting 2 folds for each of 4 candidates, totalling 8 fits\n",
          "output_type": "stream"
        },
        {
          "name": "stderr",
          "text": "[Parallel(n_jobs=-1)]: Using backend LokyBackend with 4 concurrent workers.\n[Parallel(n_jobs=-1)]: Done   8 out of   8 | elapsed:  4.5min finished\n\u001b[32m[I 2021-12-03 16:08:25,261]\u001b[0m Trial 6 finished with value: 0.693384642649181 and parameters: {'n_layers': 7, 'n_units_0': 20, 'n_units_1': 13, 'n_units_2': 18, 'n_units_3': 10, 'n_units_4': 18, 'n_units_5': 10, 'n_units_6': 14}. Best is trial 6 with value: 0.693384642649181.\u001b[0m\n",
          "output_type": "stream"
        },
        {
          "name": "stdout",
          "text": "{'pca__n_components': 10, 'selector__threshold': 0.1}\nFitting 2 folds for each of 4 candidates, totalling 8 fits\n",
          "output_type": "stream"
        },
        {
          "name": "stderr",
          "text": "[Parallel(n_jobs=-1)]: Using backend LokyBackend with 4 concurrent workers.\n[Parallel(n_jobs=-1)]: Done   8 out of   8 | elapsed: 12.2min finished\n\u001b[32m[I 2021-12-03 16:21:12,875]\u001b[0m Trial 7 finished with value: 0.42990961796501176 and parameters: {'n_layers': 26, 'n_units_0': 13, 'n_units_1': 15, 'n_units_2': 17, 'n_units_3': 13, 'n_units_4': 20, 'n_units_5': 10, 'n_units_6': 12, 'n_units_7': 12, 'n_units_8': 17, 'n_units_9': 17, 'n_units_10': 11, 'n_units_11': 16, 'n_units_12': 12, 'n_units_13': 14, 'n_units_14': 15, 'n_units_15': 10, 'n_units_16': 11, 'n_units_17': 14, 'n_units_18': 18, 'n_units_19': 10, 'n_units_20': 20, 'n_units_21': 13, 'n_units_22': 17, 'n_units_23': 19, 'n_units_24': 17, 'n_units_25': 11}. Best is trial 6 with value: 0.693384642649181.\u001b[0m\n",
          "output_type": "stream"
        },
        {
          "name": "stdout",
          "text": "{'pca__n_components': 10, 'selector__threshold': 0}\nFitting 2 folds for each of 4 candidates, totalling 8 fits\n",
          "output_type": "stream"
        },
        {
          "name": "stderr",
          "text": "[Parallel(n_jobs=-1)]: Using backend LokyBackend with 4 concurrent workers.\n[Parallel(n_jobs=-1)]: Done   8 out of   8 | elapsed:  3.7min finished\n\u001b[32m[I 2021-12-03 16:26:40,336]\u001b[0m Trial 8 finished with value: 0.42990961796501176 and parameters: {'n_layers': 83, 'n_units_0': 14, 'n_units_1': 20, 'n_units_2': 12, 'n_units_3': 12, 'n_units_4': 19, 'n_units_5': 11, 'n_units_6': 10, 'n_units_7': 18, 'n_units_8': 15, 'n_units_9': 13, 'n_units_10': 15, 'n_units_11': 14, 'n_units_12': 17, 'n_units_13': 17, 'n_units_14': 12, 'n_units_15': 12, 'n_units_16': 19, 'n_units_17': 11, 'n_units_18': 10, 'n_units_19': 14, 'n_units_20': 11, 'n_units_21': 17, 'n_units_22': 10, 'n_units_23': 16, 'n_units_24': 10, 'n_units_25': 11, 'n_units_26': 20, 'n_units_27': 19, 'n_units_28': 15, 'n_units_29': 11, 'n_units_30': 14, 'n_units_31': 20, 'n_units_32': 18, 'n_units_33': 17, 'n_units_34': 12, 'n_units_35': 13, 'n_units_36': 15, 'n_units_37': 15, 'n_units_38': 11, 'n_units_39': 10, 'n_units_40': 17, 'n_units_41': 10, 'n_units_42': 20, 'n_units_43': 12, 'n_units_44': 16, 'n_units_45': 11, 'n_units_46': 13, 'n_units_47': 13, 'n_units_48': 20, 'n_units_49': 12, 'n_units_50': 20, 'n_units_51': 12, 'n_units_52': 11, 'n_units_53': 20, 'n_units_54': 16, 'n_units_55': 14, 'n_units_56': 20, 'n_units_57': 12, 'n_units_58': 19, 'n_units_59': 18, 'n_units_60': 11, 'n_units_61': 11, 'n_units_62': 14, 'n_units_63': 13, 'n_units_64': 17, 'n_units_65': 16, 'n_units_66': 19, 'n_units_67': 12, 'n_units_68': 17, 'n_units_69': 18, 'n_units_70': 17, 'n_units_71': 17, 'n_units_72': 17, 'n_units_73': 19, 'n_units_74': 15, 'n_units_75': 15, 'n_units_76': 13, 'n_units_77': 17, 'n_units_78': 15, 'n_units_79': 19, 'n_units_80': 18, 'n_units_81': 12, 'n_units_82': 13}. Best is trial 6 with value: 0.693384642649181.\u001b[0m\n",
          "output_type": "stream"
        },
        {
          "name": "stdout",
          "text": "{'pca__n_components': 10, 'selector__threshold': 0}\nFitting 2 folds for each of 4 candidates, totalling 8 fits\n",
          "output_type": "stream"
        },
        {
          "name": "stderr",
          "text": "[Parallel(n_jobs=-1)]: Using backend LokyBackend with 4 concurrent workers.\n[Parallel(n_jobs=-1)]: Done   8 out of   8 | elapsed:  4.8min finished\n\u001b[32m[I 2021-12-03 16:33:11,923]\u001b[0m Trial 9 finished with value: 0.42990961796501176 and parameters: {'n_layers': 84, 'n_units_0': 15, 'n_units_1': 10, 'n_units_2': 13, 'n_units_3': 19, 'n_units_4': 13, 'n_units_5': 15, 'n_units_6': 18, 'n_units_7': 14, 'n_units_8': 17, 'n_units_9': 17, 'n_units_10': 10, 'n_units_11': 20, 'n_units_12': 16, 'n_units_13': 13, 'n_units_14': 10, 'n_units_15': 10, 'n_units_16': 15, 'n_units_17': 11, 'n_units_18': 15, 'n_units_19': 20, 'n_units_20': 17, 'n_units_21': 12, 'n_units_22': 15, 'n_units_23': 11, 'n_units_24': 19, 'n_units_25': 11, 'n_units_26': 19, 'n_units_27': 16, 'n_units_28': 18, 'n_units_29': 11, 'n_units_30': 18, 'n_units_31': 13, 'n_units_32': 18, 'n_units_33': 11, 'n_units_34': 13, 'n_units_35': 18, 'n_units_36': 18, 'n_units_37': 10, 'n_units_38': 13, 'n_units_39': 16, 'n_units_40': 13, 'n_units_41': 17, 'n_units_42': 16, 'n_units_43': 17, 'n_units_44': 17, 'n_units_45': 16, 'n_units_46': 11, 'n_units_47': 10, 'n_units_48': 14, 'n_units_49': 19, 'n_units_50': 20, 'n_units_51': 15, 'n_units_52': 18, 'n_units_53': 10, 'n_units_54': 20, 'n_units_55': 11, 'n_units_56': 17, 'n_units_57': 13, 'n_units_58': 19, 'n_units_59': 13, 'n_units_60': 16, 'n_units_61': 11, 'n_units_62': 19, 'n_units_63': 15, 'n_units_64': 17, 'n_units_65': 10, 'n_units_66': 18, 'n_units_67': 10, 'n_units_68': 19, 'n_units_69': 10, 'n_units_70': 15, 'n_units_71': 15, 'n_units_72': 16, 'n_units_73': 15, 'n_units_74': 16, 'n_units_75': 13, 'n_units_76': 18, 'n_units_77': 20, 'n_units_78': 11, 'n_units_79': 17, 'n_units_80': 17, 'n_units_81': 15, 'n_units_82': 18, 'n_units_83': 19}. Best is trial 6 with value: 0.693384642649181.\u001b[0m\n",
          "output_type": "stream"
        },
        {
          "name": "stdout",
          "text": "{'pca__n_components': 10, 'selector__threshold': 0}\nFitting 2 folds for each of 4 candidates, totalling 8 fits\n",
          "output_type": "stream"
        },
        {
          "name": "stderr",
          "text": "[Parallel(n_jobs=-1)]: Using backend LokyBackend with 4 concurrent workers.\n[Parallel(n_jobs=-1)]: Done   8 out of   8 | elapsed:  1.7min finished\n\u001b[32m[I 2021-12-03 16:35:35,826]\u001b[0m Trial 10 finished with value: 0.6946251803843135 and parameters: {'n_layers': 2, 'n_units_0': 17, 'n_units_1': 12}. Best is trial 10 with value: 0.6946251803843135.\u001b[0m\n",
          "output_type": "stream"
        },
        {
          "name": "stdout",
          "text": "{'pca__n_components': 11, 'selector__threshold': 0}\nFitting 2 folds for each of 4 candidates, totalling 8 fits\n",
          "output_type": "stream"
        },
        {
          "name": "stderr",
          "text": "[Parallel(n_jobs=-1)]: Using backend LokyBackend with 4 concurrent workers.\n[Parallel(n_jobs=-1)]: Done   8 out of   8 | elapsed:  1.2min finished\n\u001b[32m[I 2021-12-03 16:37:18,575]\u001b[0m Trial 11 finished with value: 0.6798399959492646 and parameters: {'n_layers': 1, 'n_units_0': 17}. Best is trial 10 with value: 0.6946251803843135.\u001b[0m\n",
          "output_type": "stream"
        },
        {
          "name": "stdout",
          "text": "{'pca__n_components': 11, 'selector__threshold': 0.1}\nFitting 2 folds for each of 4 candidates, totalling 8 fits\n",
          "output_type": "stream"
        },
        {
          "name": "stderr",
          "text": "[Parallel(n_jobs=-1)]: Using backend LokyBackend with 4 concurrent workers.\n[Parallel(n_jobs=-1)]: Done   8 out of   8 | elapsed:  1.7min finished\n\u001b[32m[I 2021-12-03 16:39:42,148]\u001b[0m Trial 12 finished with value: 0.6956378642497278 and parameters: {'n_layers': 2, 'n_units_0': 20, 'n_units_1': 12}. Best is trial 12 with value: 0.6956378642497278.\u001b[0m\n",
          "output_type": "stream"
        },
        {
          "name": "stdout",
          "text": "{'pca__n_components': 11, 'selector__threshold': 0.1}\nFitting 2 folds for each of 4 candidates, totalling 8 fits\n",
          "output_type": "stream"
        },
        {
          "name": "stderr",
          "text": "[Parallel(n_jobs=-1)]: Using backend LokyBackend with 4 concurrent workers.\n[Parallel(n_jobs=-1)]: Done   8 out of   8 | elapsed: 10.9min finished\n\u001b[32m[I 2021-12-03 16:54:42,195]\u001b[0m Trial 13 finished with value: 0.6953593761867389 and parameters: {'n_layers': 18, 'n_units_0': 18, 'n_units_1': 12, 'n_units_2': 10, 'n_units_3': 14, 'n_units_4': 10, 'n_units_5': 20, 'n_units_6': 20, 'n_units_7': 20, 'n_units_8': 14, 'n_units_9': 20, 'n_units_10': 20, 'n_units_11': 13, 'n_units_12': 20, 'n_units_13': 20, 'n_units_14': 14, 'n_units_15': 14, 'n_units_16': 20, 'n_units_17': 20}. Best is trial 12 with value: 0.6956378642497278.\u001b[0m\n",
          "output_type": "stream"
        },
        {
          "name": "stdout",
          "text": "{'pca__n_components': 11, 'selector__threshold': 0.1}\nFitting 2 folds for each of 4 candidates, totalling 8 fits\n",
          "output_type": "stream"
        },
        {
          "name": "stderr",
          "text": "[Parallel(n_jobs=-1)]: Using backend LokyBackend with 4 concurrent workers.\n/opt/conda/lib/python3.7/site-packages/sklearn/neural_network/_multilayer_perceptron.py:585: ConvergenceWarning: Stochastic Optimizer: Maximum iterations (200) reached and the optimization hasn't converged yet.\n  % self.max_iter, ConvergenceWarning)\n[Parallel(n_jobs=-1)]: Done   8 out of   8 | elapsed: 17.5min finished\n/opt/conda/lib/python3.7/site-packages/sklearn/neural_network/_multilayer_perceptron.py:585: ConvergenceWarning: Stochastic Optimizer: Maximum iterations (200) reached and the optimization hasn't converged yet.\n  % self.max_iter, ConvergenceWarning)\n\u001b[32m[I 2021-12-03 17:23:49,532]\u001b[0m Trial 14 finished with value: 0.6832071698017671 and parameters: {'n_layers': 23, 'n_units_0': 20, 'n_units_1': 12, 'n_units_2': 10, 'n_units_3': 14, 'n_units_4': 10, 'n_units_5': 20, 'n_units_6': 20, 'n_units_7': 20, 'n_units_8': 14, 'n_units_9': 20, 'n_units_10': 20, 'n_units_11': 13, 'n_units_12': 19, 'n_units_13': 20, 'n_units_14': 14, 'n_units_15': 14, 'n_units_16': 20, 'n_units_17': 20, 'n_units_18': 20, 'n_units_19': 10, 'n_units_20': 13, 'n_units_21': 20, 'n_units_22': 19}. Best is trial 12 with value: 0.6956378642497278.\u001b[0m\n",
          "output_type": "stream"
        },
        {
          "name": "stdout",
          "text": "{'pca__n_components': 11, 'selector__threshold': 0}\nFitting 2 folds for each of 4 candidates, totalling 8 fits\n",
          "output_type": "stream"
        },
        {
          "name": "stderr",
          "text": "[Parallel(n_jobs=-1)]: Using backend LokyBackend with 4 concurrent workers.\n[Parallel(n_jobs=-1)]: Done   8 out of   8 | elapsed: 14.1min finished\n\u001b[32m[I 2021-12-03 17:45:09,701]\u001b[0m Trial 15 finished with value: 0.6953846932833743 and parameters: {'n_layers': 20, 'n_units_0': 17, 'n_units_1': 12, 'n_units_2': 14, 'n_units_3': 20, 'n_units_4': 16, 'n_units_5': 17, 'n_units_6': 18, 'n_units_7': 20, 'n_units_8': 10, 'n_units_9': 16, 'n_units_10': 18, 'n_units_11': 12, 'n_units_12': 20, 'n_units_13': 20, 'n_units_14': 17, 'n_units_15': 16, 'n_units_16': 17, 'n_units_17': 20, 'n_units_18': 14, 'n_units_19': 12}. Best is trial 12 with value: 0.6956378642497278.\u001b[0m\n",
          "output_type": "stream"
        },
        {
          "name": "stdout",
          "text": "{'pca__n_components': 11, 'selector__threshold': 0.1}\nFitting 2 folds for each of 4 candidates, totalling 8 fits\n",
          "output_type": "stream"
        },
        {
          "name": "stderr",
          "text": "[Parallel(n_jobs=-1)]: Using backend LokyBackend with 4 concurrent workers.\n[Parallel(n_jobs=-1)]: Done   8 out of   8 | elapsed:  1.5min finished\n\u001b[32m[I 2021-12-03 18:07:34,254]\u001b[0m Trial 16 finished with value: 0.6872072710701537 and parameters: {'n_layers': 35, 'n_units_0': 16, 'n_units_1': 17, 'n_units_2': 15, 'n_units_3': 20, 'n_units_4': 17, 'n_units_5': 17, 'n_units_6': 17, 'n_units_7': 16, 'n_units_8': 11, 'n_units_9': 15, 'n_units_10': 18, 'n_units_11': 11, 'n_units_12': 14, 'n_units_13': 17, 'n_units_14': 17, 'n_units_15': 17, 'n_units_16': 17, 'n_units_17': 18, 'n_units_18': 14, 'n_units_19': 12, 'n_units_20': 12, 'n_units_21': 20, 'n_units_22': 14, 'n_units_23': 14, 'n_units_24': 14, 'n_units_25': 17, 'n_units_26': 15, 'n_units_27': 17, 'n_units_28': 10, 'n_units_29': 14, 'n_units_30': 10, 'n_units_31': 20, 'n_units_32': 15, 'n_units_33': 17, 'n_units_34': 20}. Best is trial 12 with value: 0.6956378642497278.\u001b[0m\n",
          "output_type": "stream"
        },
        {
          "name": "stdout",
          "text": "{'pca__n_components': 10, 'selector__threshold': 0}\nFitting 2 folds for each of 4 candidates, totalling 8 fits\n",
          "output_type": "stream"
        },
        {
          "name": "stderr",
          "text": "[Parallel(n_jobs=-1)]: Using backend LokyBackend with 4 concurrent workers.\n[Parallel(n_jobs=-1)]: Done   8 out of   8 | elapsed:  8.2min finished\n\u001b[32m[I 2021-12-03 18:19:21,274]\u001b[0m Trial 17 finished with value: 0.6963973771487886 and parameters: {'n_layers': 11, 'n_units_0': 19, 'n_units_1': 11, 'n_units_2': 14, 'n_units_3': 18, 'n_units_4': 16, 'n_units_5': 13, 'n_units_6': 18, 'n_units_7': 19, 'n_units_8': 10, 'n_units_9': 16, 'n_units_10': 15}. Best is trial 17 with value: 0.6963973771487886.\u001b[0m\n",
          "output_type": "stream"
        },
        {
          "name": "stdout",
          "text": "{'pca__n_components': 11, 'selector__threshold': 0}\nFitting 2 folds for each of 4 candidates, totalling 8 fits\n",
          "output_type": "stream"
        },
        {
          "name": "stderr",
          "text": "[Parallel(n_jobs=-1)]: Using backend LokyBackend with 4 concurrent workers.\n[Parallel(n_jobs=-1)]: Done   8 out of   8 | elapsed:  7.6min finished\n/opt/conda/lib/python3.7/site-packages/sklearn/neural_network/_multilayer_perceptron.py:585: ConvergenceWarning: Stochastic Optimizer: Maximum iterations (200) reached and the optimization hasn't converged yet.\n  % self.max_iter, ConvergenceWarning)\n\u001b[32m[I 2021-12-03 18:35:19,696]\u001b[0m Trial 18 finished with value: 0.696574596825236 and parameters: {'n_layers': 12, 'n_units_0': 19, 'n_units_1': 10, 'n_units_2': 20, 'n_units_3': 17, 'n_units_4': 15, 'n_units_5': 12, 'n_units_6': 18, 'n_units_7': 18, 'n_units_8': 13, 'n_units_9': 14, 'n_units_10': 14, 'n_units_11': 18}. Best is trial 18 with value: 0.696574596825236.\u001b[0m\n",
          "output_type": "stream"
        },
        {
          "name": "stdout",
          "text": "{'pca__n_components': 11, 'selector__threshold': 0.1}\nFitting 2 folds for each of 4 candidates, totalling 8 fits\n",
          "output_type": "stream"
        },
        {
          "name": "stderr",
          "text": "[Parallel(n_jobs=-1)]: Using backend LokyBackend with 4 concurrent workers.\n[Parallel(n_jobs=-1)]: Done   8 out of   8 | elapsed:  1.9min finished\n\u001b[32m[I 2021-12-03 18:38:01,891]\u001b[0m Trial 19 finished with value: 0.42990961796501176 and parameters: {'n_layers': 37, 'n_units_0': 19, 'n_units_1': 10, 'n_units_2': 20, 'n_units_3': 17, 'n_units_4': 15, 'n_units_5': 12, 'n_units_6': 18, 'n_units_7': 18, 'n_units_8': 13, 'n_units_9': 15, 'n_units_10': 14, 'n_units_11': 18, 'n_units_12': 14, 'n_units_13': 16, 'n_units_14': 20, 'n_units_15': 12, 'n_units_16': 13, 'n_units_17': 17, 'n_units_18': 17, 'n_units_19': 17, 'n_units_20': 14, 'n_units_21': 10, 'n_units_22': 13, 'n_units_23': 14, 'n_units_24': 14, 'n_units_25': 20, 'n_units_26': 15, 'n_units_27': 13, 'n_units_28': 12, 'n_units_29': 13, 'n_units_30': 20, 'n_units_31': 17, 'n_units_32': 15, 'n_units_33': 12, 'n_units_34': 15, 'n_units_35': 16, 'n_units_36': 20}. Best is trial 18 with value: 0.696574596825236.\u001b[0m\n",
          "output_type": "stream"
        },
        {
          "name": "stdout",
          "text": "{'pca__n_components': 10, 'selector__threshold': 0}\n",
          "output_type": "stream"
        }
      ]
    },
    {
      "cell_type": "code",
      "metadata": {
        "execution": {
          "iopub.status.busy": "2021-12-03T18:38:01.928183Z",
          "iopub.execute_input": "2021-12-03T18:38:01.929057Z",
          "iopub.status.idle": "2021-12-03T18:38:02.011494Z",
          "shell.execute_reply.started": "2021-12-03T18:38:01.928984Z",
          "shell.execute_reply": "2021-12-03T18:38:02.010404Z"
        },
        "trusted": true,
        "id": "R2dxSSQPrYGV",
        "outputId": "648a2af2-b9db-4252-b1d1-455b84a060cd"
      },
      "source": [
        "plot_optimization_history(study)"
      ],
      "execution_count": null,
      "outputs": [
        {
          "output_type": "display_data",
          "data": {
            "text/html": "<div>                            <div id=\"9bf26550-bcc9-41cc-b668-eec5dc2bb288\" class=\"plotly-graph-div\" style=\"height:525px; width:100%;\"></div>            <script type=\"text/javascript\">                require([\"plotly\"], function(Plotly) {                    window.PLOTLYENV=window.PLOTLYENV || {};                                    if (document.getElementById(\"9bf26550-bcc9-41cc-b668-eec5dc2bb288\")) {                    Plotly.newPlot(                        \"9bf26550-bcc9-41cc-b668-eec5dc2bb288\",                        [{\"mode\":\"markers\",\"name\":\"Objective Value\",\"x\":[0,1,2,3,4,5,6,7,8,9,10,11,12,13,14,15,16,17,18,19],\"y\":[0.42990961796501176,0.42990961796501176,0.42990961796501176,0.42990961796501176,0.42990961796501176,0.42990961796501176,0.693384642649181,0.42990961796501176,0.42990961796501176,0.42990961796501176,0.6946251803843135,0.6798399959492646,0.6956378642497278,0.6953593761867389,0.6832071698017671,0.6953846932833743,0.6872072710701537,0.6963973771487886,0.696574596825236,0.42990961796501176],\"type\":\"scatter\"},{\"name\":\"Best Value\",\"x\":[0,1,2,3,4,5,6,7,8,9,10,11,12,13,14,15,16,17,18,19],\"y\":[0.42990961796501176,0.42990961796501176,0.42990961796501176,0.42990961796501176,0.42990961796501176,0.42990961796501176,0.693384642649181,0.693384642649181,0.693384642649181,0.693384642649181,0.6946251803843135,0.6946251803843135,0.6956378642497278,0.6956378642497278,0.6956378642497278,0.6956378642497278,0.6956378642497278,0.6963973771487886,0.696574596825236,0.696574596825236],\"type\":\"scatter\"}],                        {\"title\":{\"text\":\"Optimization History Plot\"},\"xaxis\":{\"title\":{\"text\":\"#Trials\"}},\"yaxis\":{\"title\":{\"text\":\"Objective Value\"}},\"template\":{\"data\":{\"bar\":[{\"error_x\":{\"color\":\"#2a3f5f\"},\"error_y\":{\"color\":\"#2a3f5f\"},\"marker\":{\"line\":{\"color\":\"#E5ECF6\",\"width\":0.5},\"pattern\":{\"fillmode\":\"overlay\",\"size\":10,\"solidity\":0.2}},\"type\":\"bar\"}],\"barpolar\":[{\"marker\":{\"line\":{\"color\":\"#E5ECF6\",\"width\":0.5},\"pattern\":{\"fillmode\":\"overlay\",\"size\":10,\"solidity\":0.2}},\"type\":\"barpolar\"}],\"carpet\":[{\"aaxis\":{\"endlinecolor\":\"#2a3f5f\",\"gridcolor\":\"white\",\"linecolor\":\"white\",\"minorgridcolor\":\"white\",\"startlinecolor\":\"#2a3f5f\"},\"baxis\":{\"endlinecolor\":\"#2a3f5f\",\"gridcolor\":\"white\",\"linecolor\":\"white\",\"minorgridcolor\":\"white\",\"startlinecolor\":\"#2a3f5f\"},\"type\":\"carpet\"}],\"choropleth\":[{\"colorbar\":{\"outlinewidth\":0,\"ticks\":\"\"},\"type\":\"choropleth\"}],\"contour\":[{\"colorbar\":{\"outlinewidth\":0,\"ticks\":\"\"},\"colorscale\":[[0.0,\"#0d0887\"],[0.1111111111111111,\"#46039f\"],[0.2222222222222222,\"#7201a8\"],[0.3333333333333333,\"#9c179e\"],[0.4444444444444444,\"#bd3786\"],[0.5555555555555556,\"#d8576b\"],[0.6666666666666666,\"#ed7953\"],[0.7777777777777778,\"#fb9f3a\"],[0.8888888888888888,\"#fdca26\"],[1.0,\"#f0f921\"]],\"type\":\"contour\"}],\"contourcarpet\":[{\"colorbar\":{\"outlinewidth\":0,\"ticks\":\"\"},\"type\":\"contourcarpet\"}],\"heatmap\":[{\"colorbar\":{\"outlinewidth\":0,\"ticks\":\"\"},\"colorscale\":[[0.0,\"#0d0887\"],[0.1111111111111111,\"#46039f\"],[0.2222222222222222,\"#7201a8\"],[0.3333333333333333,\"#9c179e\"],[0.4444444444444444,\"#bd3786\"],[0.5555555555555556,\"#d8576b\"],[0.6666666666666666,\"#ed7953\"],[0.7777777777777778,\"#fb9f3a\"],[0.8888888888888888,\"#fdca26\"],[1.0,\"#f0f921\"]],\"type\":\"heatmap\"}],\"heatmapgl\":[{\"colorbar\":{\"outlinewidth\":0,\"ticks\":\"\"},\"colorscale\":[[0.0,\"#0d0887\"],[0.1111111111111111,\"#46039f\"],[0.2222222222222222,\"#7201a8\"],[0.3333333333333333,\"#9c179e\"],[0.4444444444444444,\"#bd3786\"],[0.5555555555555556,\"#d8576b\"],[0.6666666666666666,\"#ed7953\"],[0.7777777777777778,\"#fb9f3a\"],[0.8888888888888888,\"#fdca26\"],[1.0,\"#f0f921\"]],\"type\":\"heatmapgl\"}],\"histogram\":[{\"marker\":{\"pattern\":{\"fillmode\":\"overlay\",\"size\":10,\"solidity\":0.2}},\"type\":\"histogram\"}],\"histogram2d\":[{\"colorbar\":{\"outlinewidth\":0,\"ticks\":\"\"},\"colorscale\":[[0.0,\"#0d0887\"],[0.1111111111111111,\"#46039f\"],[0.2222222222222222,\"#7201a8\"],[0.3333333333333333,\"#9c179e\"],[0.4444444444444444,\"#bd3786\"],[0.5555555555555556,\"#d8576b\"],[0.6666666666666666,\"#ed7953\"],[0.7777777777777778,\"#fb9f3a\"],[0.8888888888888888,\"#fdca26\"],[1.0,\"#f0f921\"]],\"type\":\"histogram2d\"}],\"histogram2dcontour\":[{\"colorbar\":{\"outlinewidth\":0,\"ticks\":\"\"},\"colorscale\":[[0.0,\"#0d0887\"],[0.1111111111111111,\"#46039f\"],[0.2222222222222222,\"#7201a8\"],[0.3333333333333333,\"#9c179e\"],[0.4444444444444444,\"#bd3786\"],[0.5555555555555556,\"#d8576b\"],[0.6666666666666666,\"#ed7953\"],[0.7777777777777778,\"#fb9f3a\"],[0.8888888888888888,\"#fdca26\"],[1.0,\"#f0f921\"]],\"type\":\"histogram2dcontour\"}],\"mesh3d\":[{\"colorbar\":{\"outlinewidth\":0,\"ticks\":\"\"},\"type\":\"mesh3d\"}],\"parcoords\":[{\"line\":{\"colorbar\":{\"outlinewidth\":0,\"ticks\":\"\"}},\"type\":\"parcoords\"}],\"pie\":[{\"automargin\":true,\"type\":\"pie\"}],\"scatter\":[{\"marker\":{\"colorbar\":{\"outlinewidth\":0,\"ticks\":\"\"}},\"type\":\"scatter\"}],\"scatter3d\":[{\"line\":{\"colorbar\":{\"outlinewidth\":0,\"ticks\":\"\"}},\"marker\":{\"colorbar\":{\"outlinewidth\":0,\"ticks\":\"\"}},\"type\":\"scatter3d\"}],\"scattercarpet\":[{\"marker\":{\"colorbar\":{\"outlinewidth\":0,\"ticks\":\"\"}},\"type\":\"scattercarpet\"}],\"scattergeo\":[{\"marker\":{\"colorbar\":{\"outlinewidth\":0,\"ticks\":\"\"}},\"type\":\"scattergeo\"}],\"scattergl\":[{\"marker\":{\"colorbar\":{\"outlinewidth\":0,\"ticks\":\"\"}},\"type\":\"scattergl\"}],\"scattermapbox\":[{\"marker\":{\"colorbar\":{\"outlinewidth\":0,\"ticks\":\"\"}},\"type\":\"scattermapbox\"}],\"scatterpolar\":[{\"marker\":{\"colorbar\":{\"outlinewidth\":0,\"ticks\":\"\"}},\"type\":\"scatterpolar\"}],\"scatterpolargl\":[{\"marker\":{\"colorbar\":{\"outlinewidth\":0,\"ticks\":\"\"}},\"type\":\"scatterpolargl\"}],\"scatterternary\":[{\"marker\":{\"colorbar\":{\"outlinewidth\":0,\"ticks\":\"\"}},\"type\":\"scatterternary\"}],\"surface\":[{\"colorbar\":{\"outlinewidth\":0,\"ticks\":\"\"},\"colorscale\":[[0.0,\"#0d0887\"],[0.1111111111111111,\"#46039f\"],[0.2222222222222222,\"#7201a8\"],[0.3333333333333333,\"#9c179e\"],[0.4444444444444444,\"#bd3786\"],[0.5555555555555556,\"#d8576b\"],[0.6666666666666666,\"#ed7953\"],[0.7777777777777778,\"#fb9f3a\"],[0.8888888888888888,\"#fdca26\"],[1.0,\"#f0f921\"]],\"type\":\"surface\"}],\"table\":[{\"cells\":{\"fill\":{\"color\":\"#EBF0F8\"},\"line\":{\"color\":\"white\"}},\"header\":{\"fill\":{\"color\":\"#C8D4E3\"},\"line\":{\"color\":\"white\"}},\"type\":\"table\"}]},\"layout\":{\"annotationdefaults\":{\"arrowcolor\":\"#2a3f5f\",\"arrowhead\":0,\"arrowwidth\":1},\"autotypenumbers\":\"strict\",\"coloraxis\":{\"colorbar\":{\"outlinewidth\":0,\"ticks\":\"\"}},\"colorscale\":{\"diverging\":[[0,\"#8e0152\"],[0.1,\"#c51b7d\"],[0.2,\"#de77ae\"],[0.3,\"#f1b6da\"],[0.4,\"#fde0ef\"],[0.5,\"#f7f7f7\"],[0.6,\"#e6f5d0\"],[0.7,\"#b8e186\"],[0.8,\"#7fbc41\"],[0.9,\"#4d9221\"],[1,\"#276419\"]],\"sequential\":[[0.0,\"#0d0887\"],[0.1111111111111111,\"#46039f\"],[0.2222222222222222,\"#7201a8\"],[0.3333333333333333,\"#9c179e\"],[0.4444444444444444,\"#bd3786\"],[0.5555555555555556,\"#d8576b\"],[0.6666666666666666,\"#ed7953\"],[0.7777777777777778,\"#fb9f3a\"],[0.8888888888888888,\"#fdca26\"],[1.0,\"#f0f921\"]],\"sequentialminus\":[[0.0,\"#0d0887\"],[0.1111111111111111,\"#46039f\"],[0.2222222222222222,\"#7201a8\"],[0.3333333333333333,\"#9c179e\"],[0.4444444444444444,\"#bd3786\"],[0.5555555555555556,\"#d8576b\"],[0.6666666666666666,\"#ed7953\"],[0.7777777777777778,\"#fb9f3a\"],[0.8888888888888888,\"#fdca26\"],[1.0,\"#f0f921\"]]},\"colorway\":[\"#636efa\",\"#EF553B\",\"#00cc96\",\"#ab63fa\",\"#FFA15A\",\"#19d3f3\",\"#FF6692\",\"#B6E880\",\"#FF97FF\",\"#FECB52\"],\"font\":{\"color\":\"#2a3f5f\"},\"geo\":{\"bgcolor\":\"white\",\"lakecolor\":\"white\",\"landcolor\":\"#E5ECF6\",\"showlakes\":true,\"showland\":true,\"subunitcolor\":\"white\"},\"hoverlabel\":{\"align\":\"left\"},\"hovermode\":\"closest\",\"mapbox\":{\"style\":\"light\"},\"paper_bgcolor\":\"white\",\"plot_bgcolor\":\"#E5ECF6\",\"polar\":{\"angularaxis\":{\"gridcolor\":\"white\",\"linecolor\":\"white\",\"ticks\":\"\"},\"bgcolor\":\"#E5ECF6\",\"radialaxis\":{\"gridcolor\":\"white\",\"linecolor\":\"white\",\"ticks\":\"\"}},\"scene\":{\"xaxis\":{\"backgroundcolor\":\"#E5ECF6\",\"gridcolor\":\"white\",\"gridwidth\":2,\"linecolor\":\"white\",\"showbackground\":true,\"ticks\":\"\",\"zerolinecolor\":\"white\"},\"yaxis\":{\"backgroundcolor\":\"#E5ECF6\",\"gridcolor\":\"white\",\"gridwidth\":2,\"linecolor\":\"white\",\"showbackground\":true,\"ticks\":\"\",\"zerolinecolor\":\"white\"},\"zaxis\":{\"backgroundcolor\":\"#E5ECF6\",\"gridcolor\":\"white\",\"gridwidth\":2,\"linecolor\":\"white\",\"showbackground\":true,\"ticks\":\"\",\"zerolinecolor\":\"white\"}},\"shapedefaults\":{\"line\":{\"color\":\"#2a3f5f\"}},\"ternary\":{\"aaxis\":{\"gridcolor\":\"white\",\"linecolor\":\"white\",\"ticks\":\"\"},\"baxis\":{\"gridcolor\":\"white\",\"linecolor\":\"white\",\"ticks\":\"\"},\"bgcolor\":\"#E5ECF6\",\"caxis\":{\"gridcolor\":\"white\",\"linecolor\":\"white\",\"ticks\":\"\"}},\"title\":{\"x\":0.05},\"xaxis\":{\"automargin\":true,\"gridcolor\":\"white\",\"linecolor\":\"white\",\"ticks\":\"\",\"title\":{\"standoff\":15},\"zerolinecolor\":\"white\",\"zerolinewidth\":2},\"yaxis\":{\"automargin\":true,\"gridcolor\":\"white\",\"linecolor\":\"white\",\"ticks\":\"\",\"title\":{\"standoff\":15},\"zerolinecolor\":\"white\",\"zerolinewidth\":2}}}},                        {\"responsive\": true}                    ).then(function(){\n                            \nvar gd = document.getElementById('9bf26550-bcc9-41cc-b668-eec5dc2bb288');\nvar x = new MutationObserver(function (mutations, observer) {{\n        var display = window.getComputedStyle(gd).display;\n        if (!display || display === 'none') {{\n            console.log([gd, 'removed!']);\n            Plotly.purge(gd);\n            observer.disconnect();\n        }}\n}});\n\n// Listen for the removal of the full notebook cells\nvar notebookContainer = gd.closest('#notebook-container');\nif (notebookContainer) {{\n    x.observe(notebookContainer, {childList: true});\n}}\n\n// Listen for the clearing of the current output cell\nvar outputEl = gd.closest('.output');\nif (outputEl) {{\n    x.observe(outputEl, {childList: true});\n}}\n\n                        })                };                });            </script>        </div>"
          },
          "metadata": {}
        }
      ]
    },
    {
      "cell_type": "markdown",
      "metadata": {
        "id": "oPeUui9F0BxR"
      },
      "source": [
        "Το παραπάνω διάγραμμα σε φωτογραφία σε περίπτωση που δεν εμφανίζεται."
      ]
    },
    {
      "cell_type": "markdown",
      "metadata": {
        "id": "ioXZErhwzvGl"
      },
      "source": [
        "![image.png](data:image/png;base64,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)"
      ]
    },
    {
      "cell_type": "code",
      "metadata": {
        "execution": {
          "iopub.status.busy": "2021-12-03T18:38:02.014359Z",
          "iopub.execute_input": "2021-12-03T18:38:02.014908Z",
          "iopub.status.idle": "2021-12-03T18:38:02.024990Z",
          "shell.execute_reply.started": "2021-12-03T18:38:02.014860Z",
          "shell.execute_reply": "2021-12-03T18:38:02.023499Z"
        },
        "trusted": true,
        "id": "vktstKi6rYGV",
        "outputId": "566d8141-efb4-46e9-9af9-f177b5bb0d81"
      },
      "source": [
        "print(\"MLP with no optimazations:\", barplotbefore[0])\n",
        "print(\"MLP with optimazations:\", barplot[0])\n",
        "print(\"SVM with no optimazations:\", barplotbefore[1])\n",
        "print(\"SVM with optimazations:\", barplot[1])"
      ],
      "execution_count": null,
      "outputs": [
        {
          "name": "stdout",
          "text": "MLP with no optimazations: 0.6771057495126459\nMLP with optimazations: 0.696574596825236\nSVM with no optimazations: 0.6522949948099952\nSVM with optimazations: 0.6825236081926125\n",
          "output_type": "stream"
        }
      ]
    },
    {
      "cell_type": "code",
      "metadata": {
        "execution": {
          "iopub.status.busy": "2021-12-03T18:38:02.026900Z",
          "iopub.execute_input": "2021-12-03T18:38:02.027426Z",
          "iopub.status.idle": "2021-12-03T18:38:02.280841Z",
          "shell.execute_reply.started": "2021-12-03T18:38:02.027378Z",
          "shell.execute_reply": "2021-12-03T18:38:02.279944Z"
        },
        "trusted": true,
        "id": "y1cGgi9ArYGV",
        "outputId": "994a36b0-c214-43f7-f453-af7ab303040b"
      },
      "source": [
        "classifiers = ['MLP', 'SVM']\n",
        "\n",
        "plt.figure(figsize=(6,6)) \n",
        "X_axis = np.arange(len(classifiers))\n",
        "\n",
        "plt.bar(X_axis - 0.0625, barplotbefore, 0.125, label = 'Without Optimazation')\n",
        "plt.bar(X_axis + 0.0625, barplot, 0.125, label = 'With Optimazation')\n",
        "  \n",
        "plt.xticks(X_axis, classifiers)\n",
        "plt.xlabel(\"Classifier\")\n",
        "plt.title(\"Accuracy\")\n",
        "plt.legend()\n",
        "plt.show()"
      ],
      "execution_count": null,
      "outputs": [
        {
          "output_type": "display_data",
          "data": {
            "text/plain": "<Figure size 600x600 with 1 Axes>",
            "image/png": "[encoded data removed]"
          },
          "metadata": {}
        }
      ]
    },
    {
      "cell_type": "markdown",
      "metadata": {
        "id": "K7IScHmyrYGV"
      },
      "source": [
        "### Τεκμηρίωση της διαδικασίας\n",
        "Γενικά, κατά τη διαδικασία βελτιστοποίησης των δύο ταξινομητών, έχουμε κάνει αρκετή προεπεξεργασία στα δεδομένα μας. Αρχικά, επειδή αντιμετωπίζαμε ένα μη ισοζυγισμένο dataset, εφαρμόσαμε undersampling (όχι oversampling, λόγω μεγάλου όγκου δεδομένων και για λόγους ταχύτητας) για να ισορροπήσουμε το dataset. Επιπλέον, θέλαμε να διώξουμε χαρακτηριστικά με πολύ μικρή διακύμανση που δεν θα προσέφεραν στην απόφαση του ταξινομητή και με κανονικοποίηση προσπαθούμε να αμβλύνουμε κάποιες πολύ μεγάλες διαφορές στις τιμές των χαρακτηριστικών μας. Στη συνέχεια, θέλουμε να υπολογίσουμε, με τη βοήθεια της βιβλιοθήκης βελτιστοποίησης Optuna, τις βέλτιστες τιμές για τις υπερπαραμέτρους κάθε ταξινομητή, καθώς και του Variance Threshlod και του PCA, μέσω της χρήσης pipeline (πρώτα κανονικοποιήση μετά Variance Threshold και μετά PCA). Τέλος, παρουσιάζουμε τα αποτελέσματα συγκριτικά με την Out-of-the-box επίδοση τους σε ένα markdown table και σε ένα bar διάγραμμα."
      ]
    },
    {
      "cell_type": "markdown",
      "metadata": {
        "id": "JOo7rdrzrYGV"
      },
      "source": [
        "### Παρουσίαση αποτελεσμάτων και συμπεράσματα\n",
        "Μετά από αρκετές δοκιμές και διάφορους συνδυασμούς μετασχηματιστών στα pipelines, καταλήξαμε στα παραπάνω αποτελέσματα, τα οποία ήταν τα καλύτερα που μπορέσαμε να εξάγουμε, εντός των 9 ωρών που τρέχει το Kaggle. Η βελτίωση που παρατηρείται και για τους δύο ταξινομητές είναι αρκετά μικρή, αλλά κάνοντας μία μικρή έρευνα για το state-of-the-art του dataset μας, είδαμε πως η καλύτερη επίδοση που έχει παρουσιαστεί είναι περίπου 69% και άρα πολύ κοντά στα δικά μας αποτελέσματα. \n",
        "\n",
        "Τελικά, οι δύο ταξινομητές έχουν παρόμοια απόδοση, αλλά μάλλον θα επιλέγαμε τον MLP Classifier καθώς είναι αρκετά πιο γρήγορος από τον SVM. Επιπλέον, ο SVM απαιτεί προσαρμογή για multiclass classification, επομένως δεν είναι ο ιδανικός ταξινομητής για το dataset μας. Στην διαδικασία Pipeline και optuna βγαίνει convergence warning αλλά έχοντας κάνει πολλές δοκιμές βλέπουμε ότι αυτο δεν έχει αντίκτυπο στο τελικό αποτέλεσμα."
      ]
    }
  ]
}